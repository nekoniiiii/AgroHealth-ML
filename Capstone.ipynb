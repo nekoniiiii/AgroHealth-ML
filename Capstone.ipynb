{
  "cells": [
    {
      "attachments": {},
      "cell_type": "markdown",
      "metadata": {
        "id": "bLsa5nISg5B9"
      },
      "source": [
        "# Import Library"
      ]
    },
    {
      "cell_type": "code",
      "execution_count": null,
      "metadata": {
        "id": "mcdBd-db7twh"
      },
      "outputs": [],
      "source": [
        "import pandas as pd\n",
        "import numpy as np\n",
        "import matplotlib.pyplot as plt\n",
        "import cv2\n",
        "import seaborn as sns\n",
        "\n",
        "import os\n",
        "import zipfile"
      ]
    },
    {
      "cell_type": "code",
      "execution_count": null,
      "metadata": {
        "id": "UARbU1T3hSj3"
      },
      "outputs": [],
      "source": [
        "import tensorflow as tf\n",
        "from tensorflow.keras.models import *\n",
        "from tensorflow.keras.layers import *\n",
        "from tensorflow.keras.preprocessing.image import ImageDataGenerator\n",
        "from keras.models import load_model"
      ]
    },
    {
      "attachments": {},
      "cell_type": "markdown",
      "metadata": {
        "id": "kotB6n6IhJxx"
      },
      "source": [
        "# Get and Unzip Dataset"
      ]
    },
    {
      "cell_type": "code",
      "execution_count": null,
      "metadata": {
        "colab": {
          "base_uri": "https://localhost:8080/"
        },
        "id": "Fn9hMwKu9Xgy",
        "outputId": "91772897-a9f9-450f-f212-5b651fe59a36"
      },
      "outputs": [
        {
          "name": "stdout",
          "output_type": "stream",
          "text": [
            "Mounted at /content/gdrive\n"
          ]
        }
      ],
      "source": [
        "# Using GDrive\n",
        "from google.colab import drive \n",
        "drive.mount('/content/gdrive')"
      ]
    },
    {
      "cell_type": "code",
      "execution_count": null,
      "metadata": {
        "id": "qiGa8aWGOMPP"
      },
      "outputs": [],
      "source": [
        "# Base Directory\n",
        "base_dir = '/content/gdrive/My Drive/ML/'\n",
        "# base_dir = 'E:/Kuliah/Bangkit/Capstone/ML/'"
      ]
    },
    {
      "cell_type": "code",
      "execution_count": null,
      "metadata": {
        "id": "BsDCsHdz--jU"
      },
      "outputs": [],
      "source": [
        "# Unzip Dataset 2\n",
        "if os.path.exists(os.path.join(base_dir, 'New Plant Diseases Dataset(Augmented)')) == False:\n",
        "  local_zip = os.path.join(base_dir, 'vipooooolnew-plant-diseases-dataset.zip')\n",
        "  zip_ref = zipfile.ZipFile(local_zip, 'r')\n",
        "  zip_ref.extractall(base_dir)\n",
        "  zip_ref.close()"
      ]
    },
    {
      "attachments": {},
      "cell_type": "markdown",
      "metadata": {
        "id": "U4K85fVchaUO"
      },
      "source": [
        "# Preprocessing"
      ]
    },
    {
      "attachments": {},
      "cell_type": "markdown",
      "metadata": {
        "id": "fcUdVt5zl5OG"
      },
      "source": [
        "## Rename Folders"
      ]
    },
    {
      "cell_type": "code",
      "execution_count": null,
      "metadata": {
        "id": "Fi72Fvtc-PsL"
      },
      "outputs": [],
      "source": [
        "base_dir = '/content'\n",
        "dataset_path = '/content/New Plant Diseases Dataset(Augmented)/New Plant Diseases Dataset(Augmented)'\n",
        "subfolders = ['train', 'valid']"
      ]
    },
    {
      "cell_type": "code",
      "execution_count": null,
      "metadata": {
        "colab": {
          "base_uri": "https://localhost:8080/"
        },
        "id": "6E5wkpUKMdAd",
        "outputId": "e9b7e937-33ab-4905-b15c-dba609fcfd3c"
      },
      "outputs": [
        {
          "name": "stdout",
          "output_type": "stream",
          "text": [
            "['Apple___Apple_scab', 'Apple___Black_rot', 'Apple___Cedar_apple_rust', 'Apple___healthy', 'Blueberry___healthy', 'Cherry_(including_sour)___Powdery_mildew', 'Cherry_(including_sour)___healthy', 'Corn_(maize)___Cercospora_leaf_spot Gray_leaf_spot', 'Corn_(maize)___Common_rust_', 'Corn_(maize)___Northern_Leaf_Blight', 'Corn_(maize)___healthy', 'Grape___Black_rot', 'Grape___Esca_(Black_Measles)', 'Grape___Leaf_blight_(Isariopsis_Leaf_Spot)', 'Grape___healthy', 'Orange___Haunglongbing_(Citrus_greening)', 'Peach___Bacterial_spot', 'Peach___healthy', 'Pepper,_bell___Bacterial_spot', 'Pepper,_bell___healthy', 'Potato___Early_blight', 'Potato___Late_blight', 'Potato___healthy', 'Raspberry___healthy', 'Soybean___healthy', 'Squash___Powdery_mildew', 'Strawberry___Leaf_scorch', 'Strawberry___healthy', 'Tomato___Bacterial_spot', 'Tomato___Early_blight', 'Tomato___Late_blight', 'Tomato___Leaf_Mold', 'Tomato___Septoria_leaf_spot', 'Tomato___Spider_mites Two-spotted_spider_mite', 'Tomato___Target_Spot', 'Tomato___Tomato_Yellow_Leaf_Curl_Virus', 'Tomato___Tomato_mosaic_virus', 'Tomato___healthy']\n"
          ]
        }
      ],
      "source": [
        "# List files\n",
        "print(os.listdir(os.path.join(dataset_path, 'train')))"
      ]
    },
    {
      "cell_type": "code",
      "execution_count": null,
      "metadata": {
        "id": "MT1Ue_gOIskY"
      },
      "outputs": [],
      "source": [
        "subfolders = ['train', 'valid']\n",
        "folders = []\n",
        "plants = []"
      ]
    },
    {
      "cell_type": "code",
      "execution_count": null,
      "metadata": {
        "id": "Ep2_LI5O2Vpf"
      },
      "outputs": [],
      "source": [
        "# Saran: sebaiknya bagian \"if ... in status\" dipindahkan dalam bentuk fungsi (done)"
      ]
    },
    {
      "cell_type": "code",
      "execution_count": null,
      "metadata": {
        "id": "sMmKzp7DI9j5"
      },
      "outputs": [],
      "source": [
        "# Function to rename folder or move files to another folder\n",
        "def move_or_rename(folder, old_path, new_path):\n",
        "    # Pindahkan saja jika sudah ada\n",
        "      if folder in status:                              # if 'healthy' in status\n",
        "        files = os.listdir(old_path)                    # file di 'Tomato___healthy'\n",
        "        \n",
        "        # Iterasi semua file\n",
        "        for f in files:\n",
        "          src_path = os.path.join(old_path, f)          # 'Tomato___healthy'\n",
        "          dst_path = os.path.join(new_path, f)          # 'healthy'\n",
        "          os.rename(src_path, dst_path)\n",
        "\n",
        "      else:                                             # if 'healthy' not in status\n",
        "        os.rename(old_path, new_path)\n",
        "        status.append(folder)                           # insert 'healthy' to status"
      ]
    },
    {
      "cell_type": "code",
      "execution_count": null,
      "metadata": {
        "id": "bOItWrrJmLDm"
      },
      "outputs": [],
      "source": [
        "status = []"
      ]
    },
    {
      "cell_type": "code",
      "execution_count": null,
      "metadata": {
        "id": "hWlfB-taJZxF"
      },
      "outputs": [],
      "source": [
        "# Menghapus kata (jenis tanaman) sebelum \"___\" dan menghapus jenis tanaman jika\n",
        "# masih ada\n",
        "\n",
        "# For all (train and valid) folders\n",
        "for sub in subfolders:\n",
        "  sub_path = os.path.join(dataset_path, sub)\n",
        "  \n",
        "  for folder in os.listdir(sub_path):\n",
        "    # Hapus kata sebelum \"___\" jika ada\n",
        "    if \"___\" in folder:\n",
        "      id = folder.rfind(\"___\")\n",
        "      plant_name = folder[:id]\n",
        "\n",
        "      # Me-rename folder\n",
        "      old_path = os.path.join(sub_path, folder)\n",
        "      new_path = os.path.join(sub_path, folder[id+3:])\n",
        "\n",
        "      move_or_rename(folder[id+3:], old_path, new_path)\n",
        "\n",
        "      # Hapus jenis tanaman jika masih ada \n",
        "      folder = folder[id+3:]\n",
        "      if plant_name in folder:\n",
        "        plant_len = len(plant_name)\n",
        "\n",
        "        # Me-rename folder\n",
        "        old_path = new_path \n",
        "        new_path = os.path.join(sub_path, folder[plant_len+1:])\n",
        "\n",
        "        move_or_rename(folder[plant_len+1:], old_path, new_path)\n",
        "\n",
        "  status = []"
      ]
    },
    {
      "cell_type": "code",
      "execution_count": null,
      "metadata": {
        "id": "Um7Zjx8QJg7Y"
      },
      "outputs": [],
      "source": [
        "# Delete empty folders\n",
        "for sub in subfolders:\n",
        "  sub_path = os.path.join(dataset_path, sub)\n",
        "  \n",
        "  for folder in os.listdir(sub_path):\n",
        "    if not os.listdir(os.path.join(sub_path, folder)):\n",
        "        print(f'Deleting {os.path.join(sub_path, folder)}...')\n",
        "        os.removedirs(os.path.join(sub_path, folder))"
      ]
    },
    {
      "cell_type": "code",
      "execution_count": null,
      "metadata": {
        "id": "zq3AL2DdKeXa"
      },
      "outputs": [],
      "source": [
        "# Semua status tanaman dan jumlahnya\n",
        "directory_files = os.listdir(os.path.join(dataset_path, 'train'))\n",
        "print(f'Status penyakit tanaman: {directory_files}')\n",
        "print(f'Jumlah: {len(directory_files)}')"
      ]
    },
    {
      "attachments": {},
      "cell_type": "markdown",
      "metadata": {
        "id": "07MRh5fUmXZ3"
      },
      "source": [
        "## ImageDataGenerator Setup"
      ]
    },
    {
      "cell_type": "code",
      "execution_count": null,
      "metadata": {
        "id": "vykYVsTTOgTR"
      },
      "outputs": [],
      "source": [
        "training_dir = os.path.join(dataset_path, 'train')\n",
        "validation_dir = os.path.join(dataset_path, 'valid')\n",
        "print(training_dir)\n",
        "print(validation_dir)"
      ]
    },
    {
      "cell_type": "code",
      "execution_count": null,
      "metadata": {
        "id": "cJC4mhfbOgrA"
      },
      "outputs": [],
      "source": [
        "# Function to use ImageDataGenerator from image directory\n",
        "def train_val_generators(training_dir, validation_dir):\n",
        "\n",
        "  train_datagen = ImageDataGenerator(rescale=1/255)\n",
        "\n",
        "  train_generator = train_datagen.flow_from_directory(directory=training_dir,\n",
        "                                                      batch_size=20,\n",
        "                                                      class_mode='categorical',\n",
        "                                                      target_size=(150, 150),\n",
        "                                                      shuffle=True)\n",
        "\n",
        "  validation_datagen = ImageDataGenerator(rescale=1/255)\n",
        "\n",
        "  validation_generator = validation_datagen.flow_from_directory(directory=validation_dir,\n",
        "                                                                batch_size=20,\n",
        "                                                                class_mode='categorical',\n",
        "                                                                target_size=(150, 150),\n",
        "                                                                shuffle=True)\n",
        "  \n",
        "  return train_generator, validation_generator"
      ]
    },
    {
      "cell_type": "code",
      "execution_count": null,
      "metadata": {
        "id": "ZymChZMeOjGS"
      },
      "outputs": [],
      "source": [
        "train_generator, validation_generator = train_val_generators(training_dir, validation_dir)\n",
        "# Output: \n",
        "# Found 70295 images belonging to 21 classes.\n",
        "# Found 17572 images belonging to 21 classes."
      ]
    },
    {
      "attachments": {},
      "cell_type": "markdown",
      "metadata": {
        "id": "GvjuLkHxOs5N"
      },
      "source": [
        "# Training Model"
      ]
    },
    {
      "attachments": {},
      "cell_type": "markdown",
      "metadata": {
        "id": "k8FKTsiemhC7"
      },
      "source": [
        "## Setup"
      ]
    },
    {
      "cell_type": "code",
      "execution_count": null,
      "metadata": {
        "id": "Y4ldyHQjOrRM"
      },
      "outputs": [],
      "source": [
        "# Function to plot accuracy from history\n",
        "def plot_accuracy(history):\n",
        "    acc=history.history['accuracy']\n",
        "    val_acc=history.history['val_accuracy']\n",
        "    loss=history.history['loss']\n",
        "    val_loss=history.history['val_loss']\n",
        "\n",
        "    epochs=range(len(acc)) # Get number of epochs\n",
        "\n",
        "    plt.plot(epochs, acc, 'r', \"Training Accuracy\")\n",
        "    plt.plot(epochs, val_acc, 'b', \"Validation Accuracy\")\n",
        "    plt.title('Training and validation accuracy')\n",
        "    plt.show()\n",
        "    print(\"\")\n",
        "\n",
        "    plt.plot(epochs, loss, 'r', \"Training Loss\")\n",
        "    plt.plot(epochs, val_loss, 'b', \"Validation Loss\")\n",
        "    plt.show()"
      ]
    },
    {
      "cell_type": "code",
      "execution_count": null,
      "metadata": {
        "id": "W4GGadbumk5N"
      },
      "outputs": [],
      "source": [
        "from keras.models import load_model"
      ]
    },
    {
      "cell_type": "code",
      "execution_count": null,
      "metadata": {
        "id": "KLymVOGDmmGU"
      },
      "outputs": [],
      "source": [
        "from google.colab import files\n",
        "from tensorflow.keras.utils import load_img, img_to_array"
      ]
    },
    {
      "cell_type": "code",
      "execution_count": null,
      "metadata": {
        "id": "ReULbEgamoe9"
      },
      "outputs": [],
      "source": [
        "# Test the model\n",
        "def model_prediction(model):\n",
        "  uploaded = files.upload()\n",
        "\n",
        "  for fn in uploaded.keys():\n",
        "    path = fn\n",
        "    img = load_img(path, target_size=(150, 150))\n",
        "    x = img_to_array(img)\n",
        "    x = np.expand_dims(x, axis=0)\n",
        "\n",
        "    images = np.vstack([x])\n",
        "    classes = model.predict(images, batch_size=10)\n",
        "    print(fn)\n",
        "    print(classes.argmax(axis=-1))"
      ]
    },
    {
      "attachments": {},
      "cell_type": "markdown",
      "metadata": {
        "id": "ubVgM17mOxhw"
      },
      "source": [
        "## Self-Made Model 1"
      ]
    },
    {
      "cell_type": "code",
      "execution_count": null,
      "metadata": {
        "id": "TiAPk8LVOvfg"
      },
      "outputs": [],
      "source": [
        "# Create the model\n",
        "model = tf.keras.models.Sequential([ \n",
        "    tf.keras.layers.Conv2D(16, (3,3), activation='relu', input_shape=(150, 150, 3)),\n",
        "    tf.keras.layers.MaxPooling2D(2,2),\n",
        "    tf.keras.layers.Conv2D(32, (3,3), activation='relu'),\n",
        "    tf.keras.layers.MaxPooling2D(2,2),\n",
        "\n",
        "    tf.keras.layers.Flatten(),\n",
        "    tf.keras.layers.Dense(512, activation='relu'),\n",
        "    tf.keras.layers.Dense(21, activation='softmax')\n",
        "])\n",
        "\n",
        "model.compile(optimizer='adam',\n",
        "            loss='categorical_crossentropy',\n",
        "            metrics=['accuracy']) "
      ]
    },
    {
      "cell_type": "code",
      "execution_count": null,
      "metadata": {
        "id": "zUy6Z9w8O2dG"
      },
      "outputs": [],
      "source": [
        "# Train the model\n",
        "history = model.fit(train_generator,\n",
        "                    epochs=10,\n",
        "                    verbose=1,\n",
        "                    validation_data=validation_generator)\n",
        "\n",
        "# Output last epoch\n",
        "# Epoch 10/10\n",
        "# 3515/3515 [==============================] - 2091s 595ms/step - loss: 0.0332 - accuracy: 0.9907 - val_loss: 0.5553 - val_accuracy: 0.9094"
      ]
    },
    {
      "cell_type": "code",
      "execution_count": null,
      "metadata": {
        "id": "iP5wlf27O4af"
      },
      "outputs": [],
      "source": [
        "plot_accuracy(history)"
      ]
    },
    {
      "cell_type": "code",
      "execution_count": null,
      "metadata": {
        "id": "nXB-u-soPBZy"
      },
      "outputs": [],
      "source": [
        "# Test model\n"
      ]
    },
    {
      "cell_type": "code",
      "execution_count": null,
      "metadata": {
        "id": "ojfz5QQMPRQU"
      },
      "outputs": [],
      "source": [
        "# Load model\n",
        "model.save('E:/Kuliah/Bangkit/Capstone/ML/model_self.h5')\n",
        "model.save('E:/Kuliah/Bangkit/Capstone/ML/model_self.keras')"
      ]
    },
    {
      "attachments": {},
      "cell_type": "markdown",
      "metadata": {
        "id": "vg33YATFmuPE"
      },
      "source": [
        "## Self-Made Model 2"
      ]
    },
    {
      "cell_type": "code",
      "execution_count": null,
      "metadata": {
        "id": "m_04DvUUmxyo"
      },
      "outputs": [],
      "source": [
        "# Create the model\n",
        "model = tf.keras.models.Sequential([ \n",
        "    tf.keras.layers.Conv2D(16, (3,3), activation='relu', input_shape=(150, 150, 3)),\n",
        "    tf.keras.layers.MaxPooling2D(2,2),\n",
        "    tf.keras.layers.Conv2D(32, (3,3), activation='relu'),\n",
        "    tf.keras.layers.MaxPooling2D(2,2),\n",
        "\n",
        "    tf.keras.layers.Flatten(),\n",
        "    tf.keras.layers.Dense(512, activation='relu'),\n",
        "    tf.keras.layers.Dropout(0.2),\n",
        "    tf.keras.layers.Dense(21, activation='softmax')\n",
        "])\n",
        "\n",
        "model.compile(optimizer='adam',\n",
        "            loss='categorical_crossentropy',\n",
        "            metrics=['accuracy']) "
      ]
    },
    {
      "cell_type": "code",
      "execution_count": null,
      "metadata": {
        "id": "0_Nn1EX_mzOb"
      },
      "outputs": [],
      "source": [
        "# Train the model\n",
        "history = model.fit(train_generator,\n",
        "                    epochs=10,\n",
        "                    verbose=1,\n",
        "                    validation_data=validation_generator)\n",
        "\n",
        "# Last epoch\n",
        "# Epoch 10/10\n",
        "# 3515/3515 [==============================] - 1775s 505ms/step - loss: 0.0585 - accuracy: 0.9823 - val_loss: 0.4263 - val_accuracy: 0.9153"
      ]
    },
    {
      "cell_type": "code",
      "execution_count": null,
      "metadata": {
        "id": "SgqeWMEUm7Ma"
      },
      "outputs": [],
      "source": [
        "plot_accuracy(history)"
      ]
    },
    {
      "cell_type": "code",
      "execution_count": null,
      "metadata": {
        "id": "deKlxJmcnBST"
      },
      "outputs": [],
      "source": [
        "# Save model\n",
        "model.save('model_self_v2.keras')\n",
        "model.save('model_self_v2.h5')"
      ]
    },
    {
      "cell_type": "code",
      "execution_count": null,
      "metadata": {
        "id": "C4PLwBZ4nGFP"
      },
      "outputs": [],
      "source": [
        "# Load model\n",
        "# model = tf.keras.models.load_model('/content/model_self.h5')"
      ]
    },
    {
      "cell_type": "code",
      "execution_count": null,
      "metadata": {
        "id": "V-727pn1nWFa"
      },
      "outputs": [],
      "source": [
        "model_prediction(model)"
      ]
    },
    {
      "attachments": {},
      "cell_type": "markdown",
      "metadata": {
        "id": "QG6VZx08hNkx"
      },
      "source": [
        "## Transfer Learning using MobileNetV2"
      ]
    },
    {
      "cell_type": "code",
      "execution_count": null,
      "metadata": {
        "id": "Z849jOiVheMo"
      },
      "outputs": [],
      "source": [
        "model_mobilenetv2 = tf.keras.applications.MobileNetV2(weights='imagenet',\n",
        "                                                      include_top=False,\n",
        "                                                      input_shape=(150, 150, 3))\n",
        "\n",
        "for layer in model_mobilenetv2.layers:\n",
        "    layer.trainable = False"
      ]
    },
    {
      "cell_type": "code",
      "execution_count": null,
      "metadata": {
        "id": "_6LQS4Ikhhu_"
      },
      "outputs": [],
      "source": [
        "# Create the model\n",
        "model = tf.keras.Sequential([\n",
        "    model_mobilenetv2,\n",
        "    tf.keras.layers.GlobalAveragePooling2D(),\n",
        "    tf.keras.layers.Dense(512, activation='relu'),\n",
        "    #tf.keras.layers.Dropout(0.5),\n",
        "    tf.keras.layers.Dense(21, activation='softmax')\n",
        "])\n",
        "\n",
        "model.compile(optimizer='adam',\n",
        "              loss='categorical_crossentropy',\n",
        "              metrics=['accuracy']) "
      ]
    },
    {
      "cell_type": "code",
      "execution_count": null,
      "metadata": {
        "id": "IsBQ27UvhjrC"
      },
      "outputs": [],
      "source": [
        "# Train the model\n",
        "history = model.fit(train_generator,\n",
        "                    epochs=10,\n",
        "                    verbose=1,\n",
        "                    validation_data=validation_generator)\n",
        "\n",
        "# Output last epoch\n",
        "# Epoch 10/10\n",
        "# 3515/3515 [==============================] - 2797s 796ms/step - loss: 0.0541 - accuracy: 0.9821 - val_loss: 0.2471 - val_accuracy: 0.9452"
      ]
    },
    {
      "cell_type": "code",
      "execution_count": null,
      "metadata": {
        "id": "NSXq1mAjhtRM"
      },
      "outputs": [],
      "source": [
        "plot_accuracy(history)"
      ]
    },
    {
      "cell_type": "code",
      "execution_count": null,
      "metadata": {
        "id": "3GeDd0LOh08J"
      },
      "outputs": [],
      "source": [
        "# Test Model\n"
      ]
    },
    {
      "cell_type": "code",
      "execution_count": null,
      "metadata": {
        "id": "MnMYSRchh6BJ"
      },
      "outputs": [],
      "source": [
        "# Load model\n",
        "model.save('E:/Kuliah/Bangkit/Capstone/ML/model_mobilenetv2.keras')\n",
        "model.save('E:/Kuliah/Bangkit/Capstone/ML/model_mobilenetv2.h5')"
      ]
    },
    {
      "attachments": {},
      "cell_type": "markdown",
      "metadata": {
        "id": "tS6_rvnonjNT"
      },
      "source": [
        "## Transfer Learning using InceptionV3"
      ]
    },
    {
      "cell_type": "code",
      "execution_count": null,
      "metadata": {
        "id": "J30uPkmbnlSx"
      },
      "outputs": [],
      "source": [
        "from keras.applications.inception_v3 import InceptionV3"
      ]
    },
    {
      "cell_type": "code",
      "execution_count": null,
      "metadata": {
        "id": "H6HkuHFknoSk"
      },
      "outputs": [],
      "source": [
        "model_inceptionv3 = InceptionV3(weights='imagenet',\n",
        "                                include_top=False,\n",
        "                                input_shape=(150, 150, 3))\n",
        "\n",
        "for layer in model_inceptionv3.layers:\n",
        "    layer.trainable = False"
      ]
    }
  ],
  "metadata": {
    "colab": {
      "collapsed_sections": [
        "ubVgM17mOxhw"
      ],
      "provenance": [],
      "toc_visible": true
    },
    "kernelspec": {
      "display_name": "Python 3",
      "name": "python3"
    },
    "language_info": {
      "name": "python"
    }
  },
  "nbformat": 4,
  "nbformat_minor": 0
}
