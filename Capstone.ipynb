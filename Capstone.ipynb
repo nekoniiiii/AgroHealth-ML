{
  "cells": [
    {
      "cell_type": "markdown",
      "source": [
        "# Import Library"
      ],
      "metadata": {
        "id": "bLsa5nISg5B9"
      }
    },
    {
      "cell_type": "code",
      "execution_count": null,
      "metadata": {
        "id": "mcdBd-db7twh"
      },
      "outputs": [],
      "source": [
        "import pandas as pd\n",
        "import numpy as np\n",
        "import matplotlib.pyplot as plt\n",
        "import cv2\n",
        "import seaborn as sns\n",
        "\n",
        "import os\n",
        "import zipfile"
      ]
    },
    {
      "cell_type": "code",
      "source": [
        "import tensorflow as tf\n",
        "from tensorflow.keras.models import *\n",
        "from tensorflow.keras.layers import *\n",
        "from tensorflow.keras.preprocessing.image import ImageDataGenerator\n",
        "from keras.models import load_model"
      ],
      "metadata": {
        "id": "UARbU1T3hSj3"
      },
      "execution_count": null,
      "outputs": []
    },
    {
      "cell_type": "markdown",
      "source": [
        "# Get and Unzip Dataset"
      ],
      "metadata": {
        "id": "kotB6n6IhJxx"
      }
    },
    {
      "cell_type": "code",
      "execution_count": null,
      "metadata": {
        "colab": {
          "base_uri": "https://localhost:8080/"
        },
        "id": "Fn9hMwKu9Xgy",
        "outputId": "91772897-a9f9-450f-f212-5b651fe59a36"
      },
      "outputs": [
        {
          "output_type": "stream",
          "name": "stdout",
          "text": [
            "Mounted at /content/gdrive\n"
          ]
        }
      ],
      "source": [
        "# Using GDrive\n",
        "from google.colab import drive \n",
        "drive.mount('/content/gdrive')"
      ]
    },
    {
      "cell_type": "code",
      "execution_count": null,
      "metadata": {
        "id": "qiGa8aWGOMPP"
      },
      "outputs": [],
      "source": [
        "# Base Directory\n",
        "base_dir = '/content/gdrive/My Drive/ML/'\n",
        "# base_dir = 'E:/Kuliah/Bangkit/Capstone/ML/'"
      ]
    },
    {
      "cell_type": "code",
      "execution_count": null,
      "metadata": {
        "id": "BsDCsHdz--jU"
      },
      "outputs": [],
      "source": [
        "# Unzip Dataset 2\n",
        "if os.path.exists(os.path.join(base_dir, 'New Plant Diseases Dataset(Augmented)')) == False:\n",
        "  local_zip = os.path.join(base_dir, 'vipooooolnew-plant-diseases-dataset.zip')\n",
        "  zip_ref = zipfile.ZipFile(local_zip, 'r')\n",
        "  zip_ref.extractall(base_dir)\n",
        "  zip_ref.close()"
      ]
    },
    {
      "cell_type": "markdown",
      "source": [
        "# Preprocessing"
      ],
      "metadata": {
        "id": "U4K85fVchaUO"
      }
    },
    {
      "cell_type": "markdown",
      "source": [
        "## Rename Folders"
      ],
      "metadata": {
        "id": "fcUdVt5zl5OG"
      }
    },
    {
      "cell_type": "code",
      "execution_count": null,
      "metadata": {
        "id": "Fi72Fvtc-PsL"
      },
      "outputs": [],
      "source": [
        "base_dir = '/content'\n",
        "dataset_path = '/content/New Plant Diseases Dataset(Augmented)/New Plant Diseases Dataset(Augmented)'\n",
        "subfolders = ['train', 'valid']"
      ]
    },
    {
      "cell_type": "code",
      "execution_count": null,
      "metadata": {
        "id": "6E5wkpUKMdAd",
        "colab": {
          "base_uri": "https://localhost:8080/"
        },
        "outputId": "e9b7e937-33ab-4905-b15c-dba609fcfd3c"
      },
      "outputs": [
        {
          "output_type": "stream",
          "name": "stdout",
          "text": [
            "['Apple___Apple_scab', 'Apple___Black_rot', 'Apple___Cedar_apple_rust', 'Apple___healthy', 'Blueberry___healthy', 'Cherry_(including_sour)___Powdery_mildew', 'Cherry_(including_sour)___healthy', 'Corn_(maize)___Cercospora_leaf_spot Gray_leaf_spot', 'Corn_(maize)___Common_rust_', 'Corn_(maize)___Northern_Leaf_Blight', 'Corn_(maize)___healthy', 'Grape___Black_rot', 'Grape___Esca_(Black_Measles)', 'Grape___Leaf_blight_(Isariopsis_Leaf_Spot)', 'Grape___healthy', 'Orange___Haunglongbing_(Citrus_greening)', 'Peach___Bacterial_spot', 'Peach___healthy', 'Pepper,_bell___Bacterial_spot', 'Pepper,_bell___healthy', 'Potato___Early_blight', 'Potato___Late_blight', 'Potato___healthy', 'Raspberry___healthy', 'Soybean___healthy', 'Squash___Powdery_mildew', 'Strawberry___Leaf_scorch', 'Strawberry___healthy', 'Tomato___Bacterial_spot', 'Tomato___Early_blight', 'Tomato___Late_blight', 'Tomato___Leaf_Mold', 'Tomato___Septoria_leaf_spot', 'Tomato___Spider_mites Two-spotted_spider_mite', 'Tomato___Target_Spot', 'Tomato___Tomato_Yellow_Leaf_Curl_Virus', 'Tomato___Tomato_mosaic_virus', 'Tomato___healthy']\n"
          ]
        }
      ],
      "source": [
        "# List files\n",
        "print(os.listdir(os.path.join(dataset_path, 'train')))"
      ]
    },
    {
      "cell_type": "code",
      "source": [
        "subfolders = ['train', 'valid']\n",
        "folders = []\n",
        "plants = []"
      ],
      "metadata": {
        "id": "MT1Ue_gOIskY"
      },
      "execution_count": null,
      "outputs": []
    },
    {
      "cell_type": "code",
      "source": [
        "# Saran: sebaiknya bagian \"if ... in status\" dipindahkan dalam bentuk fungsi (done)"
      ],
      "metadata": {
        "id": "Ep2_LI5O2Vpf"
      },
      "execution_count": null,
      "outputs": []
    },
    {
      "cell_type": "code",
      "source": [
        "# Function to rename folder or move files to another folder\n",
        "def move_or_rename(folder, old_path, new_path):\n",
        "    # Pindahkan saja jika sudah ada\n",
        "      if folder in status:                              # if 'healthy' in status\n",
        "        files = os.listdir(old_path)                    # file di 'Tomato___healthy'\n",
        "        \n",
        "        # Iterasi semua file\n",
        "        for f in files:\n",
        "          src_path = os.path.join(old_path, f)          # 'Tomato___healthy'\n",
        "          dst_path = os.path.join(new_path, f)          # 'healthy'\n",
        "          os.rename(src_path, dst_path)\n",
        "\n",
        "      else:                                             # if 'healthy' not in status\n",
        "        os.rename(old_path, new_path)\n",
        "        status.append(folder)                           # insert 'healthy' to status"
      ],
      "metadata": {
        "id": "sMmKzp7DI9j5"
      },
      "execution_count": null,
      "outputs": []
    },
    {
      "cell_type": "code",
      "source": [
        "status = []"
      ],
      "metadata": {
        "id": "bOItWrrJmLDm"
      },
      "execution_count": null,
      "outputs": []
    },
    {
      "cell_type": "code",
      "source": [
        "# Menghapus kata (jenis tanaman) sebelum \"___\" dan menghapus jenis tanaman jika\n",
        "# masih ada\n",
        "\n",
        "# For all (train and valid) folders\n",
        "for sub in subfolders:\n",
        "  sub_path = os.path.join(dataset_path, sub)\n",
        "  \n",
        "  for folder in os.listdir(sub_path):\n",
        "    # Hapus kata sebelum \"___\" jika ada\n",
        "    if \"___\" in folder:\n",
        "      id = folder.rfind(\"___\")\n",
        "      plant_name = folder[:id]\n",
        "\n",
        "      # Me-rename folder\n",
        "      old_path = os.path.join(sub_path, folder)\n",
        "      new_path = os.path.join(sub_path, folder[id+3:])\n",
        "\n",
        "      move_or_rename(folder[id+3:], old_path, new_path)\n",
        "\n",
        "      # Hapus jenis tanaman jika masih ada \n",
        "      folder = folder[id+3:]\n",
        "      if plant_name in folder:\n",
        "        plant_len = len(plant_name)\n",
        "\n",
        "        # Me-rename folder\n",
        "        old_path = new_path \n",
        "        new_path = os.path.join(sub_path, folder[plant_len+1:])\n",
        "\n",
        "        move_or_rename(folder[plant_len+1:], old_path, new_path)\n",
        "\n",
        "  status = []"
      ],
      "metadata": {
        "id": "hWlfB-taJZxF"
      },
      "execution_count": null,
      "outputs": []
    },
    {
      "cell_type": "code",
      "source": [
        "# Delete empty folders\n",
        "for sub in subfolders:\n",
        "  sub_path = os.path.join(dataset_path, sub)\n",
        "  \n",
        "  for folder in os.listdir(sub_path):\n",
        "    if not os.listdir(os.path.join(sub_path, folder)):\n",
        "        print(f'Deleting {os.path.join(sub_path, folder)}...')\n",
        "        os.removedirs(os.path.join(sub_path, folder))"
      ],
      "metadata": {
        "id": "Um7Zjx8QJg7Y"
      },
      "execution_count": null,
      "outputs": []
    },
    {
      "cell_type": "code",
      "source": [
        "# Semua status tanaman dan jumlahnya\n",
        "directory_files = os.listdir(os.path.join(dataset_path, 'train'))\n",
        "print(f'Status penyakit tanaman: {directory_files}')\n",
        "print(f'Jumlah: {len(directory_files)}')"
      ],
      "metadata": {
        "id": "zq3AL2DdKeXa"
      },
      "execution_count": null,
      "outputs": []
    },
    {
      "cell_type": "markdown",
      "source": [
        "## ImageDataGenerator Setup"
      ],
      "metadata": {
        "id": "07MRh5fUmXZ3"
      }
    },
    {
      "cell_type": "code",
      "source": [
        "training_dir = os.path.join(dataset_path, 'train')\n",
        "validation_dir = os.path.join(dataset_path, 'valid')\n",
        "print(training_dir)\n",
        "print(validation_dir)"
      ],
      "metadata": {
        "id": "vykYVsTTOgTR"
      },
      "execution_count": null,
      "outputs": []
    },
    {
      "cell_type": "code",
      "source": [
        "# Function to use ImageDataGenerator from image directory\n",
        "def train_val_generators(training_dir, validation_dir):\n",
        "\n",
        "  train_datagen = ImageDataGenerator(rescale=1/255)\n",
        "\n",
        "  train_generator = train_datagen.flow_from_directory(directory=training_dir,\n",
        "                                                      batch_size=20,\n",
        "                                                      class_mode='categorical',\n",
        "                                                      target_size=(150, 150),\n",
        "                                                      shuffle=True)\n",
        "\n",
        "  validation_datagen = ImageDataGenerator(rescale=1/255)\n",
        "\n",
        "  validation_generator = validation_datagen.flow_from_directory(directory=validation_dir,\n",
        "                                                                batch_size=20,\n",
        "                                                                class_mode='categorical',\n",
        "                                                                target_size=(150, 150),\n",
        "                                                                shuffle=True)\n",
        "  \n",
        "  return train_generator, validation_generator"
      ],
      "metadata": {
        "id": "cJC4mhfbOgrA"
      },
      "execution_count": null,
      "outputs": []
    },
    {
      "cell_type": "code",
      "source": [
        "train_generator, validation_generator = train_val_generators(training_dir, validation_dir)\n",
        "# Output: \n",
        "# Found 70295 images belonging to 21 classes.\n",
        "# Found 17572 images belonging to 21 classes."
      ],
      "metadata": {
        "id": "ZymChZMeOjGS"
      },
      "execution_count": null,
      "outputs": []
    },
    {
      "cell_type": "markdown",
      "source": [
        "# Training Model"
      ],
      "metadata": {
        "id": "GvjuLkHxOs5N"
      }
    },
    {
      "cell_type": "markdown",
      "source": [
        "## Setup"
      ],
      "metadata": {
        "id": "k8FKTsiemhC7"
      }
    },
    {
      "cell_type": "code",
      "source": [
        "# Function to plot accuracy from history\n",
        "def plot_accuracy(history):\n",
        "    acc=history.history['accuracy']\n",
        "    val_acc=history.history['val_accuracy']\n",
        "    loss=history.history['loss']\n",
        "    val_loss=history.history['val_loss']\n",
        "\n",
        "    epochs=range(len(acc)) # Get number of epochs\n",
        "\n",
        "    plt.plot(epochs, acc, 'r', \"Training Accuracy\")\n",
        "    plt.plot(epochs, val_acc, 'b', \"Validation Accuracy\")\n",
        "    plt.title('Training and validation accuracy')\n",
        "    plt.show()\n",
        "    print(\"\")\n",
        "\n",
        "    plt.plot(epochs, loss, 'r', \"Training Loss\")\n",
        "    plt.plot(epochs, val_loss, 'b', \"Validation Loss\")\n",
        "    plt.show()"
      ],
      "metadata": {
        "id": "Y4ldyHQjOrRM"
      },
      "execution_count": null,
      "outputs": []
    },
    {
      "cell_type": "code",
      "source": [
        "from keras.models import load_model"
      ],
      "metadata": {
        "id": "W4GGadbumk5N"
      },
      "execution_count": null,
      "outputs": []
    },
    {
      "cell_type": "code",
      "source": [
        "from google.colab import files\n",
        "from tensorflow.keras.utils import load_img, img_to_array"
      ],
      "metadata": {
        "id": "KLymVOGDmmGU"
      },
      "execution_count": null,
      "outputs": []
    },
    {
      "cell_type": "code",
      "source": [
        "# Test the model\n",
        "def model_prediction(model):\n",
        "  uploaded = files.upload()\n",
        "\n",
        "  for fn in uploaded.keys():\n",
        "    path = fn\n",
        "    img = load_img(path, target_size=(150, 150))\n",
        "    x = img_to_array(img)\n",
        "    x = np.expand_dims(x, axis=0)\n",
        "\n",
        "    images = np.vstack([x])\n",
        "    classes = model.predict(images, batch_size=10)\n",
        "    print(fn)\n",
        "    print(classes.argmax(axis=-1))"
      ],
      "metadata": {
        "id": "ReULbEgamoe9"
      },
      "execution_count": null,
      "outputs": []
    },
    {
      "cell_type": "markdown",
      "source": [
        "## Self-Made Model 1"
      ],
      "metadata": {
        "id": "ubVgM17mOxhw"
      }
    },
    {
      "cell_type": "code",
      "source": [
        "# Create the model\n",
        "model = tf.keras.models.Sequential([ \n",
        "    tf.keras.layers.Conv2D(16, (3,3), activation='relu', input_shape=(150, 150, 3)),\n",
        "    tf.keras.layers.MaxPooling2D(2,2),\n",
        "    tf.keras.layers.Conv2D(32, (3,3), activation='relu'),\n",
        "    tf.keras.layers.MaxPooling2D(2,2),\n",
        "\n",
        "    tf.keras.layers.Flatten(),\n",
        "    tf.keras.layers.Dense(512, activation='relu'),\n",
        "    tf.keras.layers.Dense(21, activation='softmax')\n",
        "])\n",
        "\n",
        "model.compile(optimizer='adam',\n",
        "            loss='categorical_crossentropy',\n",
        "            metrics=['accuracy']) "
      ],
      "metadata": {
        "id": "TiAPk8LVOvfg"
      },
      "execution_count": null,
      "outputs": []
    },
    {
      "cell_type": "code",
      "source": [
        "# Train the model\n",
        "history = model.fit(train_generator,\n",
        "                    epochs=10,\n",
        "                    verbose=1,\n",
        "                    validation_data=validation_generator)\n",
        "\n",
        "# Output last epoch\n",
        "# Epoch 10/10\n",
        "# 3515/3515 [==============================] - 2091s 595ms/step - loss: 0.0332 - accuracy: 0.9907 - val_loss: 0.5553 - val_accuracy: 0.9094"
      ],
      "metadata": {
        "id": "zUy6Z9w8O2dG"
      },
      "execution_count": null,
      "outputs": []
    },
    {
      "cell_type": "code",
      "source": [
        "plot_accuracy(history)"
      ],
      "metadata": {
        "id": "iP5wlf27O4af"
      },
      "execution_count": null,
      "outputs": []
    },
    {
      "cell_type": "markdown",
      "source": [
        "![image.png](data:image/png;base64,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)\n",
        "\n",
        "![image.png](data:image/png;base64,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)"
      ],
      "metadata": {
        "id": "ALX_-illPBll"
      }
    },
    {
      "cell_type": "code",
      "source": [
        "# Test model\n"
      ],
      "metadata": {
        "id": "nXB-u-soPBZy"
      },
      "execution_count": null,
      "outputs": []
    },
    {
      "cell_type": "code",
      "source": [
        "# Load model\n",
        "model.save('E:/Kuliah/Bangkit/Capstone/ML/model_self.h5')\n",
        "model.save('E:/Kuliah/Bangkit/Capstone/ML/model_self.keras')"
      ],
      "metadata": {
        "id": "ojfz5QQMPRQU"
      },
      "execution_count": null,
      "outputs": []
    },
    {
      "cell_type": "markdown",
      "source": [
        "## Self-Made Model 2"
      ],
      "metadata": {
        "id": "vg33YATFmuPE"
      }
    },
    {
      "cell_type": "code",
      "source": [
        "# Create the model\n",
        "model = tf.keras.models.Sequential([ \n",
        "    tf.keras.layers.Conv2D(16, (3,3), activation='relu', input_shape=(150, 150, 3)),\n",
        "    tf.keras.layers.MaxPooling2D(2,2),\n",
        "    tf.keras.layers.Conv2D(32, (3,3), activation='relu'),\n",
        "    tf.keras.layers.MaxPooling2D(2,2),\n",
        "\n",
        "    tf.keras.layers.Flatten(),\n",
        "    tf.keras.layers.Dense(512, activation='relu'),\n",
        "    tf.keras.layers.Dropout(0.2),\n",
        "    tf.keras.layers.Dense(21, activation='softmax')\n",
        "])\n",
        "\n",
        "model.compile(optimizer='adam',\n",
        "            loss='categorical_crossentropy',\n",
        "            metrics=['accuracy']) "
      ],
      "metadata": {
        "id": "m_04DvUUmxyo"
      },
      "execution_count": null,
      "outputs": []
    },
    {
      "cell_type": "code",
      "source": [
        "# Train the model\n",
        "history = model.fit(train_generator,\n",
        "                    epochs=10,\n",
        "                    verbose=1,\n",
        "                    validation_data=validation_generator)\n",
        "\n",
        "# Last epoch\n",
        "# Epoch 10/10\n",
        "# 3515/3515 [==============================] - 1775s 505ms/step - loss: 0.0585 - accuracy: 0.9823 - val_loss: 0.4263 - val_accuracy: 0.9153"
      ],
      "metadata": {
        "id": "0_Nn1EX_mzOb"
      },
      "execution_count": null,
      "outputs": []
    },
    {
      "cell_type": "code",
      "source": [
        "plot_accuracy(history)"
      ],
      "metadata": {
        "id": "SgqeWMEUm7Ma"
      },
      "execution_count": null,
      "outputs": []
    },
    {
      "cell_type": "markdown",
      "source": [
        "![image.png](data:image/png;base64,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)\n",
        "\n",
        "![image.png](data:image/png;base64,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)"
      ],
      "metadata": {
        "id": "9KdAeZp6m-3f"
      }
    },
    {
      "cell_type": "code",
      "source": [
        "# Save model\n",
        "model.save('model_self_v2.keras')\n",
        "model.save('model_self_v2.h5')"
      ],
      "metadata": {
        "id": "deKlxJmcnBST"
      },
      "execution_count": null,
      "outputs": []
    },
    {
      "cell_type": "code",
      "source": [
        "# Load model\n",
        "# model = tf.keras.models.load_model('/content/model_self.h5')"
      ],
      "metadata": {
        "id": "C4PLwBZ4nGFP"
      },
      "execution_count": null,
      "outputs": []
    },
    {
      "cell_type": "code",
      "source": [
        "model_prediction(model)"
      ],
      "metadata": {
        "id": "V-727pn1nWFa"
      },
      "execution_count": null,
      "outputs": []
    },
    {
      "cell_type": "markdown",
      "source": [
        "## Transfer Learning using MobileNetV2"
      ],
      "metadata": {
        "id": "QG6VZx08hNkx"
      }
    },
    {
      "cell_type": "code",
      "source": [
        "model_mobilenetv2 = tf.keras.applications.MobileNetV2(weights='imagenet',\n",
        "                                                      include_top=False,\n",
        "                                                      input_shape=(150, 150, 3))\n",
        "\n",
        "for layer in model_mobilenetv2.layers:\n",
        "    layer.trainable = False"
      ],
      "metadata": {
        "id": "Z849jOiVheMo"
      },
      "execution_count": null,
      "outputs": []
    },
    {
      "cell_type": "code",
      "source": [
        "# Create the model\n",
        "model = tf.keras.Sequential([\n",
        "    model_mobilenetv2,\n",
        "    tf.keras.layers.GlobalAveragePooling2D(),\n",
        "    tf.keras.layers.Dense(512, activation='relu'),\n",
        "    #tf.keras.layers.Dropout(0.5),\n",
        "    tf.keras.layers.Dense(21, activation='softmax')\n",
        "])\n",
        "\n",
        "model.compile(optimizer='adam',\n",
        "              loss='categorical_crossentropy',\n",
        "              metrics=['accuracy']) "
      ],
      "metadata": {
        "id": "_6LQS4Ikhhu_"
      },
      "execution_count": null,
      "outputs": []
    },
    {
      "cell_type": "code",
      "source": [
        "# Train the model\n",
        "history = model.fit(train_generator,\n",
        "                    epochs=10,\n",
        "                    verbose=1,\n",
        "                    validation_data=validation_generator)\n",
        "\n",
        "# Output last epoch\n",
        "# Epoch 10/10\n",
        "# 3515/3515 [==============================] - 2797s 796ms/step - loss: 0.0541 - accuracy: 0.9821 - val_loss: 0.2471 - val_accuracy: 0.9452"
      ],
      "metadata": {
        "id": "IsBQ27UvhjrC"
      },
      "execution_count": null,
      "outputs": []
    },
    {
      "cell_type": "code",
      "source": [
        "plot_accuracy(history)"
      ],
      "metadata": {
        "id": "NSXq1mAjhtRM"
      },
      "execution_count": null,
      "outputs": []
    },
    {
      "cell_type": "markdown",
      "source": [
        "![image.png](data:image/png;base64,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)\n",
        "\n",
        "![image.png](data:image/png;base64,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)"
      ],
      "metadata": {
        "id": "aDK8aaPlhvtV"
      }
    },
    {
      "cell_type": "code",
      "source": [
        "# Test Model\n"
      ],
      "metadata": {
        "id": "3GeDd0LOh08J"
      },
      "execution_count": null,
      "outputs": []
    },
    {
      "cell_type": "code",
      "source": [
        "# Load model\n",
        "model.save('E:/Kuliah/Bangkit/Capstone/ML/model_mobilenetv2.keras')\n",
        "model.save('E:/Kuliah/Bangkit/Capstone/ML/model_mobilenetv2.h5')"
      ],
      "metadata": {
        "id": "MnMYSRchh6BJ"
      },
      "execution_count": null,
      "outputs": []
    },
    {
      "cell_type": "markdown",
      "source": [
        "## Transfer Learning using InceptionV3"
      ],
      "metadata": {
        "id": "tS6_rvnonjNT"
      }
    },
    {
      "cell_type": "code",
      "source": [
        "from keras.applications.inception_v3 import InceptionV3"
      ],
      "metadata": {
        "id": "J30uPkmbnlSx"
      },
      "execution_count": null,
      "outputs": []
    },
    {
      "cell_type": "code",
      "source": [
        "model_inceptionv3 = InceptionV3(weights='imagenet',\n",
        "                                include_top=False,\n",
        "                                input_shape=(150, 150, 3))\n",
        "\n",
        "for layer in model_inceptionv3.layers:\n",
        "    layer.trainable = False"
      ],
      "metadata": {
        "id": "H6HkuHFknoSk"
      },
      "execution_count": null,
      "outputs": []
    }
  ],
  "metadata": {
    "colab": {
      "provenance": [],
      "collapsed_sections": [
        "ubVgM17mOxhw"
      ],
      "toc_visible": true
    },
    "kernelspec": {
      "display_name": "Python 3",
      "name": "python3"
    },
    "language_info": {
      "name": "python"
    }
  },
  "nbformat": 4,
  "nbformat_minor": 0
}