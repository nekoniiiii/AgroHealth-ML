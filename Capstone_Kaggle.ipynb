{
  "cells": [
    {
      "attachments": {},
      "cell_type": "markdown",
      "metadata": {
        "id": "ISZ3badJ4fvN"
      },
      "source": [
        "# Import Library"
      ]
    },
    {
      "cell_type": "code",
      "execution_count": null,
      "metadata": {
        "id": "wj_nHCag4gFF"
      },
      "outputs": [],
      "source": [
        "import pandas as pd\n",
        "import numpy as np\n",
        "import matplotlib.pyplot as plt\n",
        "import seaborn as sns\n",
        "\n",
        "import os"
      ]
    },
    {
      "cell_type": "code",
      "execution_count": null,
      "metadata": {
        "id": "EsIZRv764jXG"
      },
      "outputs": [],
      "source": [
        "import tensorflow as tf\n",
        "from tensorflow.keras.models import *\n",
        "from tensorflow.keras.layers import *\n",
        "from tensorflow.keras.preprocessing import image\n",
        "from tensorflow.keras.preprocessing.image import ImageDataGenerator"
      ]
    },
    {
      "attachments": {},
      "cell_type": "markdown",
      "metadata": {
        "id": "-Glr83cO4e9X"
      },
      "source": [
        "# Get and Unzip Dataset"
      ]
    },
    {
      "cell_type": "code",
      "execution_count": null,
      "metadata": {
        "id": "Wu5XyEwZ4cd2"
      },
      "outputs": [],
      "source": [
        "!pip install -q kaggle"
      ]
    },
    {
      "cell_type": "code",
      "execution_count": null,
      "metadata": {
        "id": "q0VFvmEl4npb"
      },
      "outputs": [],
      "source": [
        "from google.colab import files"
      ]
    },
    {
      "cell_type": "code",
      "execution_count": null,
      "metadata": {
        "colab": {
          "base_uri": "https://localhost:8080/",
          "height": 90
        },
        "id": "r4zsE-tl5DyC",
        "outputId": "f4fb1895-82d6-4d5d-c31a-3bf949b1ce69"
      },
      "outputs": [
        {
          "data": {
            "text/html": [
              "\n",
              "     <input type=\"file\" id=\"files-c09efc42-5d87-47e6-865a-1ad71ec4a27f\" name=\"files[]\" multiple disabled\n",
              "        style=\"border:none\" />\n",
              "     <output id=\"result-c09efc42-5d87-47e6-865a-1ad71ec4a27f\">\n",
              "      Upload widget is only available when the cell has been executed in the\n",
              "      current browser session. Please rerun this cell to enable.\n",
              "      </output>\n",
              "      <script>// Copyright 2017 Google LLC\n",
              "//\n",
              "// Licensed under the Apache License, Version 2.0 (the \"License\");\n",
              "// you may not use this file except in compliance with the License.\n",
              "// You may obtain a copy of the License at\n",
              "//\n",
              "//      http://www.apache.org/licenses/LICENSE-2.0\n",
              "//\n",
              "// Unless required by applicable law or agreed to in writing, software\n",
              "// distributed under the License is distributed on an \"AS IS\" BASIS,\n",
              "// WITHOUT WARRANTIES OR CONDITIONS OF ANY KIND, either express or implied.\n",
              "// See the License for the specific language governing permissions and\n",
              "// limitations under the License.\n",
              "\n",
              "/**\n",
              " * @fileoverview Helpers for google.colab Python module.\n",
              " */\n",
              "(function(scope) {\n",
              "function span(text, styleAttributes = {}) {\n",
              "  const element = document.createElement('span');\n",
              "  element.textContent = text;\n",
              "  for (const key of Object.keys(styleAttributes)) {\n",
              "    element.style[key] = styleAttributes[key];\n",
              "  }\n",
              "  return element;\n",
              "}\n",
              "\n",
              "// Max number of bytes which will be uploaded at a time.\n",
              "const MAX_PAYLOAD_SIZE = 100 * 1024;\n",
              "\n",
              "function _uploadFiles(inputId, outputId) {\n",
              "  const steps = uploadFilesStep(inputId, outputId);\n",
              "  const outputElement = document.getElementById(outputId);\n",
              "  // Cache steps on the outputElement to make it available for the next call\n",
              "  // to uploadFilesContinue from Python.\n",
              "  outputElement.steps = steps;\n",
              "\n",
              "  return _uploadFilesContinue(outputId);\n",
              "}\n",
              "\n",
              "// This is roughly an async generator (not supported in the browser yet),\n",
              "// where there are multiple asynchronous steps and the Python side is going\n",
              "// to poll for completion of each step.\n",
              "// This uses a Promise to block the python side on completion of each step,\n",
              "// then passes the result of the previous step as the input to the next step.\n",
              "function _uploadFilesContinue(outputId) {\n",
              "  const outputElement = document.getElementById(outputId);\n",
              "  const steps = outputElement.steps;\n",
              "\n",
              "  const next = steps.next(outputElement.lastPromiseValue);\n",
              "  return Promise.resolve(next.value.promise).then((value) => {\n",
              "    // Cache the last promise value to make it available to the next\n",
              "    // step of the generator.\n",
              "    outputElement.lastPromiseValue = value;\n",
              "    return next.value.response;\n",
              "  });\n",
              "}\n",
              "\n",
              "/**\n",
              " * Generator function which is called between each async step of the upload\n",
              " * process.\n",
              " * @param {string} inputId Element ID of the input file picker element.\n",
              " * @param {string} outputId Element ID of the output display.\n",
              " * @return {!Iterable<!Object>} Iterable of next steps.\n",
              " */\n",
              "function* uploadFilesStep(inputId, outputId) {\n",
              "  const inputElement = document.getElementById(inputId);\n",
              "  inputElement.disabled = false;\n",
              "\n",
              "  const outputElement = document.getElementById(outputId);\n",
              "  outputElement.innerHTML = '';\n",
              "\n",
              "  const pickedPromise = new Promise((resolve) => {\n",
              "    inputElement.addEventListener('change', (e) => {\n",
              "      resolve(e.target.files);\n",
              "    });\n",
              "  });\n",
              "\n",
              "  const cancel = document.createElement('button');\n",
              "  inputElement.parentElement.appendChild(cancel);\n",
              "  cancel.textContent = 'Cancel upload';\n",
              "  const cancelPromise = new Promise((resolve) => {\n",
              "    cancel.onclick = () => {\n",
              "      resolve(null);\n",
              "    };\n",
              "  });\n",
              "\n",
              "  // Wait for the user to pick the files.\n",
              "  const files = yield {\n",
              "    promise: Promise.race([pickedPromise, cancelPromise]),\n",
              "    response: {\n",
              "      action: 'starting',\n",
              "    }\n",
              "  };\n",
              "\n",
              "  cancel.remove();\n",
              "\n",
              "  // Disable the input element since further picks are not allowed.\n",
              "  inputElement.disabled = true;\n",
              "\n",
              "  if (!files) {\n",
              "    return {\n",
              "      response: {\n",
              "        action: 'complete',\n",
              "      }\n",
              "    };\n",
              "  }\n",
              "\n",
              "  for (const file of files) {\n",
              "    const li = document.createElement('li');\n",
              "    li.append(span(file.name, {fontWeight: 'bold'}));\n",
              "    li.append(span(\n",
              "        `(${file.type || 'n/a'}) - ${file.size} bytes, ` +\n",
              "        `last modified: ${\n",
              "            file.lastModifiedDate ? file.lastModifiedDate.toLocaleDateString() :\n",
              "                                    'n/a'} - `));\n",
              "    const percent = span('0% done');\n",
              "    li.appendChild(percent);\n",
              "\n",
              "    outputElement.appendChild(li);\n",
              "\n",
              "    const fileDataPromise = new Promise((resolve) => {\n",
              "      const reader = new FileReader();\n",
              "      reader.onload = (e) => {\n",
              "        resolve(e.target.result);\n",
              "      };\n",
              "      reader.readAsArrayBuffer(file);\n",
              "    });\n",
              "    // Wait for the data to be ready.\n",
              "    let fileData = yield {\n",
              "      promise: fileDataPromise,\n",
              "      response: {\n",
              "        action: 'continue',\n",
              "      }\n",
              "    };\n",
              "\n",
              "    // Use a chunked sending to avoid message size limits. See b/62115660.\n",
              "    let position = 0;\n",
              "    do {\n",
              "      const length = Math.min(fileData.byteLength - position, MAX_PAYLOAD_SIZE);\n",
              "      const chunk = new Uint8Array(fileData, position, length);\n",
              "      position += length;\n",
              "\n",
              "      const base64 = btoa(String.fromCharCode.apply(null, chunk));\n",
              "      yield {\n",
              "        response: {\n",
              "          action: 'append',\n",
              "          file: file.name,\n",
              "          data: base64,\n",
              "        },\n",
              "      };\n",
              "\n",
              "      let percentDone = fileData.byteLength === 0 ?\n",
              "          100 :\n",
              "          Math.round((position / fileData.byteLength) * 100);\n",
              "      percent.textContent = `${percentDone}% done`;\n",
              "\n",
              "    } while (position < fileData.byteLength);\n",
              "  }\n",
              "\n",
              "  // All done.\n",
              "  yield {\n",
              "    response: {\n",
              "      action: 'complete',\n",
              "    }\n",
              "  };\n",
              "}\n",
              "\n",
              "scope.google = scope.google || {};\n",
              "scope.google.colab = scope.google.colab || {};\n",
              "scope.google.colab._files = {\n",
              "  _uploadFiles,\n",
              "  _uploadFilesContinue,\n",
              "};\n",
              "})(self);\n",
              "</script> "
            ],
            "text/plain": [
              "<IPython.core.display.HTML object>"
            ]
          },
          "metadata": {},
          "output_type": "display_data"
        },
        {
          "name": "stdout",
          "output_type": "stream",
          "text": [
            "Saving kaggle.json to kaggle.json\n"
          ]
        },
        {
          "data": {
            "text/plain": [
              "{'kaggle.json': b'{\"username\":\"kirara14\",\"key\":\"2aa2bee50a4ae34b1d9f1141695c644a\"}'}"
            ]
          },
          "execution_count": 5,
          "metadata": {},
          "output_type": "execute_result"
        }
      ],
      "source": [
        "files.upload()"
      ]
    },
    {
      "cell_type": "code",
      "execution_count": null,
      "metadata": {
        "id": "KQW1Uj6o5E0H"
      },
      "outputs": [],
      "source": [
        "os.environ['KAGGLE_CONFIG_DIR']='/content'"
      ]
    },
    {
      "cell_type": "code",
      "execution_count": null,
      "metadata": {
        "id": "oM7pz4KT5GGy"
      },
      "outputs": [],
      "source": [
        "!chmod 600 /content/kaggle.json"
      ]
    },
    {
      "cell_type": "code",
      "execution_count": null,
      "metadata": {
        "colab": {
          "base_uri": "https://localhost:8080/"
        },
        "id": "dcSk1PHf5HIU",
        "outputId": "c179a394-f10e-4a93-eafe-ddd2062d1dd2"
      },
      "outputs": [
        {
          "name": "stdout",
          "output_type": "stream",
          "text": [
            "Downloading new-plant-diseases-dataset.zip to /content\n",
            " 99% 2.68G/2.70G [00:25<00:00, 213MB/s]\n",
            "100% 2.70G/2.70G [00:25<00:00, 115MB/s]\n"
          ]
        }
      ],
      "source": [
        "!kaggle datasets download -d vipoooool/new-plant-diseases-dataset"
      ]
    },
    {
      "cell_type": "code",
      "execution_count": null,
      "metadata": {
        "colab": {
          "base_uri": "https://localhost:8080/"
        },
        "id": "9kLxDTSU5HeM",
        "outputId": "19beb864-598c-4e14-9218-2128a5febdd8"
      },
      "outputs": [],
      "source": [
        "!unzip *.zip"
      ]
    },
    {
      "attachments": {},
      "cell_type": "markdown",
      "metadata": {
        "id": "F8WYKD9u5KGB"
      },
      "source": [
        "# Preprocessing"
      ]
    },
    {
      "attachments": {},
      "cell_type": "markdown",
      "metadata": {
        "id": "3iUeEaieJGap"
      },
      "source": [
        "## Dataset 1"
      ]
    },
    {
      "cell_type": "code",
      "execution_count": null,
      "metadata": {
        "id": "zgEi9Hjf5eUl"
      },
      "outputs": [],
      "source": [
        "base_dir = '/content'\n",
        "dataset_path = '/content/New Plant Diseases Dataset(Augmented)/New Plant Diseases Dataset(Augmented)'\n",
        "subfolders = ['train', 'valid']"
      ]
    },
    {
      "cell_type": "code",
      "execution_count": null,
      "metadata": {
        "colab": {
          "base_uri": "https://localhost:8080/"
        },
        "id": "JqkYLDIR5rWg",
        "outputId": "6c4da39a-558c-4143-bb29-bb14fed8e517"
      },
      "outputs": [
        {
          "name": "stdout",
          "output_type": "stream",
          "text": [
            "['Strawberry___Leaf_scorch', 'Potato___Late_blight', 'Pepper,_bell___healthy', 'Grape___Esca_(Black_Measles)', 'Peach___Bacterial_spot', 'Blueberry___healthy', 'Strawberry___healthy', 'Pepper,_bell___Bacterial_spot', 'Tomato___Bacterial_spot', 'Corn_(maize)___healthy', 'Corn_(maize)___Northern_Leaf_Blight', 'Soybean___healthy', 'Grape___healthy', 'Potato___Early_blight', 'Tomato___Tomato_Yellow_Leaf_Curl_Virus', 'Tomato___Leaf_Mold', 'Tomato___Early_blight', 'Corn_(maize)___Cercospora_leaf_spot Gray_leaf_spot', 'Apple___Apple_scab', 'Tomato___Septoria_leaf_spot', 'Tomato___healthy', 'Raspberry___healthy', 'Tomato___Late_blight', 'Apple___healthy', 'Tomato___Tomato_mosaic_virus', 'Tomato___Target_Spot', 'Squash___Powdery_mildew', 'Grape___Leaf_blight_(Isariopsis_Leaf_Spot)', 'Apple___Black_rot', 'Potato___healthy', 'Tomato___Spider_mites Two-spotted_spider_mite', 'Cherry_(including_sour)___Powdery_mildew', 'Cherry_(including_sour)___healthy', 'Apple___Cedar_apple_rust', 'Peach___healthy', 'Corn_(maize)___Common_rust_', 'Orange___Haunglongbing_(Citrus_greening)', 'Grape___Black_rot']\n"
          ]
        }
      ],
      "source": [
        "# List files\n",
        "print(os.listdir(os.path.join(dataset_path, 'train')))"
      ]
    },
    {
      "attachments": {},
      "cell_type": "markdown",
      "metadata": {
        "id": "9aZxXIUEJI4h"
      },
      "source": [
        "## Dataset 2"
      ]
    },
    {
      "cell_type": "code",
      "execution_count": null,
      "metadata": {
        "colab": {
          "base_uri": "https://localhost:8080/"
        },
        "id": "Urozt8GTI5Zf",
        "outputId": "3af3dd80-b835-40d0-80c6-da78944dd6e5"
      },
      "outputs": [
        {
          "name": "stdout",
          "output_type": "stream",
          "text": [
            "Mounted at /content/gdrive\n"
          ]
        }
      ],
      "source": [
        "from google.colab import drive \n",
        "base_dir = '/content/gdrive'\n",
        "drive.mount(base_dir)"
      ]
    },
    {
      "cell_type": "code",
      "execution_count": null,
      "metadata": {
        "id": "TnR_ctxwJFYG"
      },
      "outputs": [],
      "source": [
        "dataset_path = '/content/gdrive/My Drive/ML/PlantDoc-Dataset-master'\n",
        "subfolders = ['train', 'test']"
      ]
    },
    {
      "cell_type": "code",
      "execution_count": null,
      "metadata": {
        "colab": {
          "base_uri": "https://localhost:8080/"
        },
        "id": "0-zn6M5QJaFO",
        "outputId": "37069feb-2e59-4d66-cc33-373cb90824c4"
      },
      "outputs": [
        {
          "name": "stdout",
          "output_type": "stream",
          "text": [
            "['Tomato leaf bacterial spot', 'Tomato leaf mosaic virus', 'Tomato mold leaf', 'Tomato leaf late blight', 'Tomato leaf', 'Tomato Septoria leaf spot', 'Tomato Early blight leaf', 'Tomato two spotted spider mites leaf', 'Strawberry leaf', 'Tomato leaf yellow virus', 'Potato leaf late blight', 'Corn leaf blight', 'Peach leaf', 'grape leaf', 'Soyabean leaf', 'grape leaf black rot', 'Corn rust leaf', 'Squash Powdery mildew leaf', 'Potato leaf early blight', 'Raspberry leaf', 'Apple Scab Leaf', 'Apple rust leaf', 'Blueberry leaf', 'Corn Gray leaf spot', 'Cherry leaf', 'Bell_pepper leaf spot', 'Bell_pepper leaf', 'Apple leaf']\n"
          ]
        }
      ],
      "source": [
        "# List files\n",
        "print(os.listdir(os.path.join(dataset_path, 'train')))"
      ]
    },
    {
      "attachments": {},
      "cell_type": "markdown",
      "metadata": {
        "id": "QTFEROhLwCzd"
      },
      "source": [
        "## Rename Folders"
      ]
    },
    {
      "cell_type": "code",
      "execution_count": null,
      "metadata": {
        "id": "N2618pP-51M2"
      },
      "outputs": [],
      "source": [
        "# Function to rename folder or move files to another folder\n",
        "def move_or_rename(folder, old_path, new_path):\n",
        "    # Pindahkan saja jika sudah ada\n",
        "      if folder in status:                              # if 'healthy' in status\n",
        "        files = os.listdir(old_path)                    # file di 'Tomato___healthy'\n",
        "        \n",
        "        # Iterasi semua file\n",
        "        for f in files:\n",
        "          src_path = os.path.join(old_path, f)          # 'Tomato___healthy'\n",
        "          dst_path = os.path.join(new_path, f)          # 'healthy'\n",
        "          os.rename(src_path, dst_path)\n",
        "\n",
        "      else:                                             # if 'healthy' not in status\n",
        "        os.rename(old_path, new_path)\n",
        "        status.append(folder)                           # insert 'healthy' to status"
      ]
    },
    {
      "cell_type": "code",
      "execution_count": null,
      "metadata": {
        "id": "bKn29jNQ5qQR"
      },
      "outputs": [],
      "source": [
        "status = []"
      ]
    },
    {
      "cell_type": "code",
      "execution_count": null,
      "metadata": {
        "id": "_hiXZVL25y2Q"
      },
      "outputs": [],
      "source": [
        "# For all (train and valid) folders\n",
        "for sub in subfolders:\n",
        "  sub_path = os.path.join(dataset_path, sub)\n",
        "  \n",
        "  for folder in os.listdir(sub_path):\n",
        "    # Hapus kata sebelum \"___\" jika ada\n",
        "    if \"___\" in folder:\n",
        "      id = folder.rfind(\"___\")\n",
        "      plant_name = folder[:id]\n",
        "\n",
        "      # Me-rename folder\n",
        "      old_path = os.path.join(sub_path, folder)\n",
        "      new_path = os.path.join(sub_path, folder[id+3:])\n",
        "\n",
        "      move_or_rename(folder[id+3:], old_path, new_path)\n",
        "\n",
        "      # Hapus jenis tanaman jika masih ada \n",
        "      folder = folder[id+3:]\n",
        "      if plant_name in folder:\n",
        "        plant_len = len(plant_name)\n",
        "\n",
        "        # Me-rename folder\n",
        "        old_path = new_path \n",
        "        new_path = os.path.join(sub_path, folder[plant_len+1:])\n",
        "\n",
        "        move_or_rename(folder[plant_len+1:], old_path, new_path)\n",
        "\n",
        "  status = []"
      ]
    },
    {
      "cell_type": "code",
      "execution_count": null,
      "metadata": {
        "colab": {
          "base_uri": "https://localhost:8080/"
        },
        "id": "5AXo_PY4545Z",
        "outputId": "23a7c096-cc9a-4c34-efce-677b2a6ed532"
      },
      "outputs": [
        {
          "name": "stdout",
          "output_type": "stream",
          "text": [
            "Deleting /content/New Plant Diseases Dataset(Augmented)/New Plant Diseases Dataset(Augmented)/train/Apple___Black_rot...\n",
            "Deleting /content/New Plant Diseases Dataset(Augmented)/New Plant Diseases Dataset(Augmented)/train/Raspberry___healthy...\n",
            "Deleting /content/New Plant Diseases Dataset(Augmented)/New Plant Diseases Dataset(Augmented)/train/Blueberry___healthy...\n",
            "Deleting /content/New Plant Diseases Dataset(Augmented)/New Plant Diseases Dataset(Augmented)/train/Apple___healthy...\n",
            "Deleting /content/New Plant Diseases Dataset(Augmented)/New Plant Diseases Dataset(Augmented)/train/Potato___Early_blight...\n",
            "Deleting /content/New Plant Diseases Dataset(Augmented)/New Plant Diseases Dataset(Augmented)/train/Tomato___healthy...\n",
            "Deleting /content/New Plant Diseases Dataset(Augmented)/New Plant Diseases Dataset(Augmented)/train/Strawberry___healthy...\n",
            "Deleting /content/New Plant Diseases Dataset(Augmented)/New Plant Diseases Dataset(Augmented)/train/Peach___Bacterial_spot...\n",
            "Deleting /content/New Plant Diseases Dataset(Augmented)/New Plant Diseases Dataset(Augmented)/train/Peach___healthy...\n",
            "Deleting /content/New Plant Diseases Dataset(Augmented)/New Plant Diseases Dataset(Augmented)/train/Potato___healthy...\n",
            "Deleting /content/New Plant Diseases Dataset(Augmented)/New Plant Diseases Dataset(Augmented)/train/Squash___Powdery_mildew...\n",
            "Deleting /content/New Plant Diseases Dataset(Augmented)/New Plant Diseases Dataset(Augmented)/train/Pepper,_bell___healthy...\n",
            "Deleting /content/New Plant Diseases Dataset(Augmented)/New Plant Diseases Dataset(Augmented)/train/Cherry_(including_sour)___healthy...\n",
            "Deleting /content/New Plant Diseases Dataset(Augmented)/New Plant Diseases Dataset(Augmented)/train/Soybean___healthy...\n",
            "Deleting /content/New Plant Diseases Dataset(Augmented)/New Plant Diseases Dataset(Augmented)/train/Tomato___Late_blight...\n",
            "Deleting /content/New Plant Diseases Dataset(Augmented)/New Plant Diseases Dataset(Augmented)/train/Pepper,_bell___Bacterial_spot...\n",
            "Deleting /content/New Plant Diseases Dataset(Augmented)/New Plant Diseases Dataset(Augmented)/train/Grape___healthy...\n",
            "Deleting /content/New Plant Diseases Dataset(Augmented)/New Plant Diseases Dataset(Augmented)/valid/Apple___Black_rot...\n",
            "Deleting /content/New Plant Diseases Dataset(Augmented)/New Plant Diseases Dataset(Augmented)/valid/Raspberry___healthy...\n",
            "Deleting /content/New Plant Diseases Dataset(Augmented)/New Plant Diseases Dataset(Augmented)/valid/Blueberry___healthy...\n",
            "Deleting /content/New Plant Diseases Dataset(Augmented)/New Plant Diseases Dataset(Augmented)/valid/Apple___healthy...\n",
            "Deleting /content/New Plant Diseases Dataset(Augmented)/New Plant Diseases Dataset(Augmented)/valid/Potato___Early_blight...\n",
            "Deleting /content/New Plant Diseases Dataset(Augmented)/New Plant Diseases Dataset(Augmented)/valid/Tomato___healthy...\n",
            "Deleting /content/New Plant Diseases Dataset(Augmented)/New Plant Diseases Dataset(Augmented)/valid/Strawberry___healthy...\n",
            "Deleting /content/New Plant Diseases Dataset(Augmented)/New Plant Diseases Dataset(Augmented)/valid/Peach___Bacterial_spot...\n",
            "Deleting /content/New Plant Diseases Dataset(Augmented)/New Plant Diseases Dataset(Augmented)/valid/Peach___healthy...\n",
            "Deleting /content/New Plant Diseases Dataset(Augmented)/New Plant Diseases Dataset(Augmented)/valid/Potato___healthy...\n",
            "Deleting /content/New Plant Diseases Dataset(Augmented)/New Plant Diseases Dataset(Augmented)/valid/Squash___Powdery_mildew...\n",
            "Deleting /content/New Plant Diseases Dataset(Augmented)/New Plant Diseases Dataset(Augmented)/valid/Pepper,_bell___healthy...\n",
            "Deleting /content/New Plant Diseases Dataset(Augmented)/New Plant Diseases Dataset(Augmented)/valid/Cherry_(including_sour)___healthy...\n",
            "Deleting /content/New Plant Diseases Dataset(Augmented)/New Plant Diseases Dataset(Augmented)/valid/Soybean___healthy...\n",
            "Deleting /content/New Plant Diseases Dataset(Augmented)/New Plant Diseases Dataset(Augmented)/valid/Tomato___Late_blight...\n",
            "Deleting /content/New Plant Diseases Dataset(Augmented)/New Plant Diseases Dataset(Augmented)/valid/Pepper,_bell___Bacterial_spot...\n",
            "Deleting /content/New Plant Diseases Dataset(Augmented)/New Plant Diseases Dataset(Augmented)/valid/Grape___healthy...\n"
          ]
        }
      ],
      "source": [
        "# Delete empty folders\n",
        "for sub in subfolders:\n",
        "  sub_path = os.path.join(dataset_path, sub)\n",
        "  \n",
        "  for folder in os.listdir(sub_path):\n",
        "    if not os.listdir(os.path.join(sub_path, folder)):\n",
        "        print(f'Deleting {os.path.join(sub_path, folder)}...')\n",
        "        os.removedirs(os.path.join(sub_path, folder))"
      ]
    },
    {
      "cell_type": "code",
      "execution_count": null,
      "metadata": {
        "colab": {
          "base_uri": "https://localhost:8080/"
        },
        "id": "Oh71rY-r58yC",
        "outputId": "3d7f47c0-2bc7-4fef-bc08-8dec223f9c0c"
      },
      "outputs": [
        {
          "name": "stdout",
          "output_type": "stream",
          "text": [
            "Status penyakit tanaman: ['Septoria_leaf_spot', 'Cercospora_leaf_spot Gray_leaf_spot', 'Black_rot', 'scab', 'Northern_Leaf_Blight', 'healthy', 'Cedar_apple_rust', 'Yellow_Leaf_Curl_Virus', 'Spider_mites Two-spotted_spider_mite', 'Powdery_mildew', 'Common_rust_', 'mosaic_virus', 'Early_blight', 'Bacterial_spot', 'Leaf_scorch', 'Leaf_Mold', 'Haunglongbing_(Citrus_greening)', 'Esca_(Black_Measles)', 'Target_Spot', 'Leaf_blight_(Isariopsis_Leaf_Spot)', 'Late_blight']\n",
            "Jumlah: 21\n"
          ]
        }
      ],
      "source": [
        "# Semua status tanaman dan jumlahnya\n",
        "directory_files = os.listdir(os.path.join(dataset_path, 'train'))\n",
        "print(f'Status penyakit tanaman: {directory_files}')\n",
        "print(f'Jumlah: {len(directory_files)}')"
      ]
    },
    {
      "attachments": {},
      "cell_type": "markdown",
      "metadata": {
        "id": "4akkoYRD6Bwt"
      },
      "source": [
        "## ImageDataGenerator Setup"
      ]
    },
    {
      "attachments": {},
      "cell_type": "markdown",
      "metadata": {
        "id": "lUhD8pydKKnd"
      },
      "source": [
        "### Dataset 1"
      ]
    },
    {
      "cell_type": "code",
      "execution_count": null,
      "metadata": {
        "colab": {
          "base_uri": "https://localhost:8080/"
        },
        "id": "-D5lGRG55_eV",
        "outputId": "151de706-b38a-4454-bd61-5365eeb523f2"
      },
      "outputs": [
        {
          "name": "stdout",
          "output_type": "stream",
          "text": [
            "/content/New Plant Diseases Dataset(Augmented)/New Plant Diseases Dataset(Augmented)/train\n",
            "/content/New Plant Diseases Dataset(Augmented)/New Plant Diseases Dataset(Augmented)/valid\n"
          ]
        }
      ],
      "source": [
        "training_dir = os.path.join(dataset_path, 'train')\n",
        "validation_dir = os.path.join(dataset_path, 'valid')\n",
        "print(training_dir)\n",
        "print(validation_dir)"
      ]
    },
    {
      "cell_type": "code",
      "execution_count": null,
      "metadata": {
        "id": "TeHvI-Cx6F5W"
      },
      "outputs": [],
      "source": [
        "# Function to use ImageDataGenerator from image directory\n",
        "def train_val_generators(training_dir, validation_dir):\n",
        "\n",
        "  train_datagen = ImageDataGenerator(rescale=1/255)\n",
        "  \n",
        "  \"\"\"\n",
        "    train_datagen = ImageDataGenerator(rescale=1/255,\n",
        "                                     rotation_range=40,\n",
        "                                     width_shift_range=0.2,\n",
        "                                     height_shift_range=0.2,\n",
        "                                     shear_range=0.2,\n",
        "                                     zoom_range=0.2,\n",
        "                                     horizontal_flip=True,\n",
        "                                     fill_mode='nearest')\n",
        "  \"\"\"\n",
        "\n",
        "  train_generator = train_datagen.flow_from_directory(directory=training_dir,\n",
        "                                                      batch_size=20,\n",
        "                                                      class_mode='categorical',\n",
        "                                                      target_size=(150, 150),\n",
        "                                                      shuffle=True)\n",
        "\n",
        "  validation_datagen = ImageDataGenerator(rescale=1/255)\n",
        "\n",
        "  validation_generator = validation_datagen.flow_from_directory(directory=validation_dir,\n",
        "                                                                batch_size=20,\n",
        "                                                                class_mode='categorical',\n",
        "                                                                target_size=(150, 150),\n",
        "                                                                shuffle=True)\n",
        "  \n",
        "  return train_generator, validation_generator"
      ]
    },
    {
      "cell_type": "code",
      "execution_count": null,
      "metadata": {
        "colab": {
          "base_uri": "https://localhost:8080/"
        },
        "id": "hveeixxI6HoO",
        "outputId": "fbe43db7-487d-4ffe-9241-e1986228c8e6"
      },
      "outputs": [
        {
          "name": "stdout",
          "output_type": "stream",
          "text": [
            "Found 70295 images belonging to 38 classes.\n",
            "Found 17572 images belonging to 38 classes.\n"
          ]
        }
      ],
      "source": [
        "train_generator, validation_generator = train_val_generators(training_dir, validation_dir)"
      ]
    },
    {
      "cell_type": "code",
      "execution_count": null,
      "metadata": {
        "id": "3P7MZ6KUrqKR"
      },
      "outputs": [],
      "source": [
        "#model.train_generator.class_indices\n",
        "train_generator.class_indices"
      ]
    },
    {
      "attachments": {},
      "cell_type": "markdown",
      "metadata": {
        "id": "4oXkaXPVr3MJ"
      },
      "source": [
        "21 classes:\n",
        "\n",
        "0. Bacterial_spot\n",
        "1. Black_rot\n",
        "2. Cedar_apple_rust\n",
        "3. Cercospora_leaf_spot\n",
        "4. Common_rust_\n",
        "5. Early_blight\n",
        "6. Esca_(Black_Measles)\n",
        "7. Haunglongbing_(Citrus_greening)\n",
        "8. Late_blight\n",
        "9. Leaf_Mold\n",
        "10. Leaf_blight_(Isariopsis_Leaf_Spot)\n",
        "11. Leaf_scorch\n",
        "12. Northern_Leaf_Blight\n",
        "13. Powdery_mildew\n",
        "14. Septoria_leaf_spot\n",
        "15. Spider_mites Two-spotted_spider_mite\n",
        "16. Target_Spot\n",
        "17. Yellow_Leaf_Curl_Virus\n",
        "18. healthy\n",
        "19. mosaic_virus\n",
        "20. scab"
      ]
    },
    {
      "attachments": {},
      "cell_type": "markdown",
      "metadata": {
        "id": "s4W8O155sEzh"
      },
      "source": [
        "38 classes:\n",
        "\n",
        "0. Apple___Apple_scab\n",
        "1. Apple___Black_rot\n",
        "2. Apple___Cedar_apple_rust\n",
        "3. Apple___healthy\n",
        "4. Blueberry___healthy\n",
        "5. Cherry_(including_sour)___Powdery_mildew\n",
        "6. Cherry_(including_sour)___healthy\n",
        "7. Corn_(maize)___Cercospora_leaf_spot Gray_leaf_spot\n",
        "8. Corn_(maize)___Common_rust_\n",
        "9. Corn_(maize)___Northern_Leaf_Blight\n",
        "10. Corn_(maize)___healthy\n",
        "11. Grape___Black_rot\n",
        "12. Grape___Esca_(Black_Measles)\n",
        "13. Grape___Leaf_blight_(Isariopsis_Leaf_Spot)\n",
        "14. Grape___healthy\n",
        "15. Orange___Haunglongbing_(Citrus_greening)\n",
        "16. Peach___Bacterial_spot\n",
        "17. Peach___healthy\n",
        "18. Pepper,_bell___Bacterial_spot\n",
        "19. Pepper,_bell___healthy\n",
        "20. Potato___Early_blight\n",
        "21. Potato___Late_blight\n",
        "22. Potato___healthy\n",
        "23. Raspberry___healthy\n",
        "24. Soybean___healthy\n",
        "25. Squash___Powdery_mildew\n",
        "26. Strawberry___Leaf_scorch\n",
        "27. Strawberry___healthy\n",
        "28. Tomato___Bacterial_spot\n",
        "29. Tomato___Early_blight\n",
        "30. Tomato___Late_blight\n",
        "31. Tomato___Leaf_Mold\n",
        "32. Tomato___Septoria_leaf_spot\n",
        "33. Tomato___Spider_mites Two-spotted_spider_mite\n",
        "34. Tomato___Target_Spot\n",
        "35. Tomato___Tomato_Yellow_Leaf_Curl_Virus\n",
        "36. Tomato___Tomato_mosaic_virus\n",
        "37. Tomato___healthy"
      ]
    },
    {
      "attachments": {},
      "cell_type": "markdown",
      "metadata": {
        "id": "Hcc4JaBSKQaM"
      },
      "source": [
        "### Dataset 2"
      ]
    },
    {
      "cell_type": "code",
      "execution_count": null,
      "metadata": {
        "colab": {
          "base_uri": "https://localhost:8080/"
        },
        "id": "BwxW9CIxKSz-",
        "outputId": "43e97482-3bf1-44c0-a2b9-a2e6faf6c700"
      },
      "outputs": [
        {
          "name": "stdout",
          "output_type": "stream",
          "text": [
            "/content/gdrive/My Drive/ML/PlantDoc-Dataset-master/train\n",
            "/content/gdrive/My Drive/ML/PlantDoc-Dataset-master/test\n"
          ]
        }
      ],
      "source": [
        "training_dir = os.path.join(dataset_path, 'train')\n",
        "validation_dir = os.path.join(dataset_path, 'test')\n",
        "print(training_dir)\n",
        "print(validation_dir)"
      ]
    },
    {
      "cell_type": "code",
      "execution_count": null,
      "metadata": {
        "id": "cMaKslMoKUYq"
      },
      "outputs": [],
      "source": [
        "# Function to use ImageDataGenerator from image directory\n",
        "def train_val_generators(training_dir, validation_dir):\n",
        "\n",
        "  train_datagen = ImageDataGenerator(rescale=1/255,\n",
        "                                     rotation_range=40,\n",
        "                                     shear_range=0.2,\n",
        "                                     zoom_range=0.2,\n",
        "                                     horizontal_flip=True)\n",
        "\n",
        "  train_generator = train_datagen.flow_from_directory(directory=training_dir,\n",
        "                                                      batch_size=20,\n",
        "                                                      class_mode='categorical',\n",
        "                                                      target_size=(256, 256),\n",
        "                                                      shuffle=True)\n",
        "\n",
        "  validation_datagen = ImageDataGenerator(rescale=1/255,\n",
        "                                          rotation_range=40,\n",
        "                                          shear_range=0.2,\n",
        "                                          zoom_range=0.2,\n",
        "                                          horizontal_flip=True)\n",
        "\n",
        "  validation_generator = validation_datagen.flow_from_directory(directory=validation_dir,\n",
        "                                                                batch_size=20,\n",
        "                                                                class_mode='categorical',\n",
        "                                                                target_size=(256, 256),\n",
        "                                                                shuffle=True)\n",
        "  \n",
        "  return train_generator, validation_generator"
      ]
    },
    {
      "cell_type": "code",
      "execution_count": null,
      "metadata": {
        "colab": {
          "base_uri": "https://localhost:8080/"
        },
        "id": "uB2ptVnsKj_R",
        "outputId": "7ab9ad08-19c6-4ddb-c6b0-dda4c945ce03"
      },
      "outputs": [
        {
          "name": "stdout",
          "output_type": "stream",
          "text": [
            "Found 2470 images belonging to 28 classes.\n",
            "Found 241 images belonging to 28 classes.\n"
          ]
        }
      ],
      "source": [
        "train_generator, validation_generator = train_val_generators(training_dir, validation_dir)"
      ]
    },
    {
      "cell_type": "code",
      "execution_count": null,
      "metadata": {
        "id": "C3ocjrmwKme4"
      },
      "outputs": [],
      "source": [
        "validation_generator.class_indices"
      ]
    },
    {
      "attachments": {},
      "cell_type": "markdown",
      "metadata": {
        "id": "2OUDZ0TH6NkR"
      },
      "source": [
        "# Model Training and Testing"
      ]
    },
    {
      "attachments": {},
      "cell_type": "markdown",
      "metadata": {
        "id": "StlF-2IXoj78"
      },
      "source": [
        "## Graph Setup"
      ]
    },
    {
      "cell_type": "code",
      "execution_count": null,
      "metadata": {
        "id": "XCyywcxU6M7-"
      },
      "outputs": [],
      "source": [
        "# Function to plot accuracy and loss from history\n",
        "def plot_accuracy(history):\n",
        "    plt.plot(history.history['accuracy'])\n",
        "    plt.plot(history.history['val_accuracy'])\n",
        "    plt.title('model accuracy')\n",
        "    plt.ylabel('accuracy')\n",
        "    plt.xlabel('epoch')\n",
        "    plt.legend(['train', 'val'], loc='upper left')\n",
        "    plt.show()\n",
        "\n",
        "def plot_loss(history):\n",
        "    plt.plot(history.history['loss'])\n",
        "    plt.plot(history.history['val_loss'])\n",
        "    plt.title('model loss')\n",
        "    plt.ylabel('loss')\n",
        "    plt.xlabel('epoch')\n",
        "    plt.legend(['train', 'val'], loc='upper left')\n",
        "    plt.show()"
      ]
    },
    {
      "attachments": {},
      "cell_type": "markdown",
      "metadata": {
        "id": "ENRwOScXlMsN"
      },
      "source": [
        "## Testing Setup"
      ]
    },
    {
      "cell_type": "code",
      "execution_count": null,
      "metadata": {
        "id": "sKB-tOnH6TGP"
      },
      "outputs": [],
      "source": [
        "from keras.models import load_model"
      ]
    },
    {
      "cell_type": "code",
      "execution_count": null,
      "metadata": {
        "id": "pgFekU5TX11t"
      },
      "outputs": [],
      "source": [
        "list_21 = ['bacterial spot', 'black rot', 'rust', 'cercospora leaf spot', 'common rust', 'early blight', \n",
        "           'esca (black measles)', 'haunglongbing (citrus greening)', 'late blight', 'leaf mold', \n",
        "           'leaf blight (isariopsis leaf spot)', 'leaf scorch', 'northern leaf blight', 'powdery mildew',\n",
        "           'septoria leaf spot', 'two-spotted spider mite', 'target spot', 'yellow leaf curl virus', 'healthy',\n",
        "           'mosaic virus', 'scab']"
      ]
    },
    {
      "cell_type": "code",
      "execution_count": null,
      "metadata": {
        "id": "jmk6elkUXgnp"
      },
      "outputs": [],
      "source": [
        "# Predict the image to 21 class\n",
        "def model_predict_21(img_path, model):\n",
        "    for images in os.listdir(img_path):\n",
        "      img = image.load_img(os.path.join(img_path, images), target_size=(150, 150))\n",
        "      x = image.img_to_array(img)\n",
        "      x = x / 255\n",
        "      x = np.expand_dims(x, axis=0)\n",
        "      preds = model.predict(x)\n",
        "      preds = np.argmax(preds, axis=1)\n",
        "      print('File name: ', images)\n",
        "      print('Disease: ', list_21[int(preds)].lower(), '\\n')"
      ]
    },
    {
      "cell_type": "code",
      "execution_count": null,
      "metadata": {
        "id": "bgttxAoPX1IP"
      },
      "outputs": [],
      "source": [
        "list_38 = ['apple scab', 'apple black rot', 'cedar apple rust', 'apple healthy', 'blueberry healthy', \n",
        "           'cherry powdery mildew', 'cherry healthy', 'corn cercospora leaf gray leaf spot', 'corn common rust',\n",
        "           'corn northern leaf blight', 'corn healthy', 'grape black rot', 'grape black measles', 'grape leaf blight',\n",
        "           'grape healthy', 'orange haunglongbing', 'peach bacterial spot', 'peach healthy', \n",
        "           'pepper bell bacterial spot', 'pepper bell healthy', 'potato early blight', 'potato late blight', \n",
        "           'potato healthy', 'raspberry healthy', 'soybean healthy', 'squash powdery mildew', 'strawberry leaf scorch',\n",
        "           'strawberry healthy', 'tomato bacterial spot', 'tomato early blight', 'tomato late blight', \n",
        "           'tomato leaf mold', 'tomato septoria leaf spot', 'tomato spider mites two spotted spider mite',\n",
        "           'tomato target spot', 'tomato yellow leaf curl virus', 'tomato mosaic virus', 'tomato healthy']"
      ]
    },
    {
      "cell_type": "code",
      "execution_count": null,
      "metadata": {
        "id": "QFEunWPu9n5K"
      },
      "outputs": [],
      "source": [
        "# Predict the image to 38 classes\n",
        "def model_predict_38(img_path, model):\n",
        "    for images in os.listdir(img_path):\n",
        "      img = image.load_img(os.path.join(img_path, images), target_size=(256, 256))\n",
        "      x = image.img_to_array(img)\n",
        "      x = x / 255\n",
        "      x = np.expand_dims(x, axis=0)\n",
        "      preds = model.predict(x)\n",
        "      preds = np.argmax(preds, axis=1)\n",
        "      print('File name: ', images)\n",
        "      print('Disease: ', list_38[int(preds)].lower(), '\\n')"
      ]
    },
    {
      "cell_type": "code",
      "execution_count": null,
      "metadata": {
        "id": "iafSsS3FLMNW"
      },
      "outputs": [],
      "source": [
        "list_28 = ['apple scab', 'apple healthy', 'apple rust', 'bell pepper healthy', 'bell pepper leaf spot', \n",
        "           'blueberry healthy', 'cherry healthy', 'corn gray leaf spot', 'corn leaf blight', 'corn rust leaf',\n",
        "           'corn northern leaf blight', 'corn healthy', 'grape black rot', 'grape black measles', 'grape leaf blight',\n",
        "           'peach healthy', 'potato early blight', 'potato late blight', 'raspberry healthy', 'soybean healthy', \n",
        "           'squash powdery mildew', 'strawberry healthy', 'tomato early blight', 'tomato septoria leaf spot', \n",
        "           'tomato healthy', 'tomato bacterial spot', 'tomato late blight', 'tomato mosaic virus',\n",
        "           'tomato yellow virus', 'tomato mold leaf', 'tomato two-spotted spider mites', 'grape healthy',\n",
        "           'grape black rot']"
      ]
    },
    {
      "cell_type": "code",
      "execution_count": null,
      "metadata": {
        "id": "gBFtGiIpLNzr"
      },
      "outputs": [],
      "source": [
        "# Predict the image to 28 classes\n",
        "def model_predict_28(img_path, model):\n",
        "    for images in os.listdir(img_path):\n",
        "      img = image.load_img(os.path.join(img_path, images), target_size=(256, 256))\n",
        "      x = image.img_to_array(img)\n",
        "      x = x / 255\n",
        "      x = np.expand_dims(x, axis=0)\n",
        "      preds = model.predict(x)\n",
        "      preds = np.argmax(preds, axis=1)\n",
        "      print('File name: ', images)\n",
        "      print('Disease: ', list_28[int(preds)].lower(), '\\n')"
      ]
    },
    {
      "cell_type": "code",
      "execution_count": null,
      "metadata": {
        "colab": {
          "base_uri": "https://localhost:8080/"
        },
        "id": "ucmV2uCMZR9A",
        "outputId": "61dce3e7-88a6-4be4-8445-edf33bf22349"
      },
      "outputs": [
        {
          "name": "stdout",
          "output_type": "stream",
          "text": [
            "Mounted at /content/gdrive\n"
          ]
        }
      ],
      "source": [
        "# Using GDrive\n",
        "#from google.colab import drive \n",
        "#drive.mount('/content/gdrive')"
      ]
    },
    {
      "cell_type": "code",
      "execution_count": null,
      "metadata": {
        "id": "ENrJ19qzZijO"
      },
      "outputs": [],
      "source": [
        "testing_dir = '/content/gdrive/My Drive/ML/Testing'\n",
        "#os.listdir(testing_dir)\n",
        "# '/content/gdrive/My Drive/Capstone/test/test'\n",
        "# '/content/gdrive/My Drive/Capstone/Testing'"
      ]
    },
    {
      "cell_type": "code",
      "execution_count": null,
      "metadata": {
        "colab": {
          "base_uri": "https://localhost:8080/"
        },
        "id": "6nUWX7cYPTyr",
        "outputId": "26a2fdd0-94d8-4415-b66a-915159280038"
      },
      "outputs": [
        {
          "name": "stdout",
          "output_type": "stream",
          "text": [
            "Mon Jun  5 13:51:19 2023       \n",
            "+-----------------------------------------------------------------------------+\n",
            "| NVIDIA-SMI 525.85.12    Driver Version: 525.85.12    CUDA Version: 12.0     |\n",
            "|-------------------------------+----------------------+----------------------+\n",
            "| GPU  Name        Persistence-M| Bus-Id        Disp.A | Volatile Uncorr. ECC |\n",
            "| Fan  Temp  Perf  Pwr:Usage/Cap|         Memory-Usage | GPU-Util  Compute M. |\n",
            "|                               |                      |               MIG M. |\n",
            "|===============================+======================+======================|\n",
            "|   0  Tesla T4            Off  | 00000000:00:04.0 Off |                    0 |\n",
            "| N/A   33C    P8     9W /  70W |      0MiB / 15360MiB |      0%      Default |\n",
            "|                               |                      |                  N/A |\n",
            "+-------------------------------+----------------------+----------------------+\n",
            "                                                                               \n",
            "+-----------------------------------------------------------------------------+\n",
            "| Processes:                                                                  |\n",
            "|  GPU   GI   CI        PID   Type   Process name                  GPU Memory |\n",
            "|        ID   ID                                                   Usage      |\n",
            "|=============================================================================|\n",
            "|  No running processes found                                                 |\n",
            "+-----------------------------------------------------------------------------+\n"
          ]
        }
      ],
      "source": [
        "!nvidia-smi"
      ]
    },
    {
      "attachments": {},
      "cell_type": "markdown",
      "metadata": {
        "id": "QtfZqZDV6VpK"
      },
      "source": [
        "## Self-made model"
      ]
    },
    {
      "cell_type": "code",
      "execution_count": null,
      "metadata": {
        "id": "a87Z5sUz6PuA"
      },
      "outputs": [],
      "source": [
        "# Create the model\n",
        "model = tf.keras.models.Sequential([ \n",
        "    tf.keras.layers.Conv2D(16, (3,3), activation='relu', input_shape=(256, 256, 3)),\n",
        "    tf.keras.layers.MaxPooling2D(2,2),\n",
        "    tf.keras.layers.Conv2D(32, (3,3), activation='relu'),\n",
        "    tf.keras.layers.MaxPooling2D(2,2),\n",
        "    tf.keras.layers.Conv2D(64, (3,3), activation='relu'),\n",
        "    tf.keras.layers.MaxPooling2D(2,2),\n",
        "\n",
        "    tf.keras.layers.Flatten(),\n",
        "    tf.keras.layers.Dense(256, activation='relu'),\n",
        "    tf.keras.layers.Dense(256, activation='relu'),\n",
        "    tf.keras.layers.Dropout(0.2),\n",
        "    tf.keras.layers.Dense(28, activation='softmax')\n",
        "])\n",
        "\n",
        "model.compile(optimizer='adam',\n",
        "            loss='categorical_crossentropy',\n",
        "            metrics=['accuracy']) "
      ]
    },
    {
      "cell_type": "code",
      "execution_count": null,
      "metadata": {
        "colab": {
          "base_uri": "https://localhost:8080/"
        },
        "id": "qXHoVTzS6ZpC",
        "outputId": "83eea456-e44f-4f90-cc43-d290fadaa450"
      },
      "outputs": [
        {
          "name": "stdout",
          "output_type": "stream",
          "text": [
            "Epoch 1/20\n",
            "124/124 [==============================] - 912s 7s/step - loss: 3.2943 - accuracy: 0.0713 - val_loss: 3.2916 - val_accuracy: 0.1037\n",
            "Epoch 2/20\n",
            "124/124 [==============================] - 118s 952ms/step - loss: 3.1153 - accuracy: 0.1138 - val_loss: 3.1239 - val_accuracy: 0.0871\n",
            "Epoch 3/20\n",
            "124/124 [==============================] - 116s 933ms/step - loss: 2.9987 - accuracy: 0.1296 - val_loss: 3.0820 - val_accuracy: 0.0871\n",
            "Epoch 4/20\n",
            "124/124 [==============================] - 118s 949ms/step - loss: 2.9324 - accuracy: 0.1538 - val_loss: 3.0440 - val_accuracy: 0.1203\n",
            "Epoch 5/20\n",
            "124/124 [==============================] - 115s 928ms/step - loss: 2.8460 - accuracy: 0.1636 - val_loss: 3.0286 - val_accuracy: 0.1494\n",
            "Epoch 6/20\n",
            "124/124 [==============================] - 117s 942ms/step - loss: 2.8130 - accuracy: 0.1858 - val_loss: 2.9937 - val_accuracy: 0.1245\n",
            "Epoch 7/20\n",
            "124/124 [==============================] - 114s 916ms/step - loss: 2.7815 - accuracy: 0.1846 - val_loss: 3.0079 - val_accuracy: 0.0954\n",
            "Epoch 8/20\n",
            "124/124 [==============================] - 114s 923ms/step - loss: 2.7173 - accuracy: 0.2073 - val_loss: 3.0176 - val_accuracy: 0.1079\n",
            "Epoch 9/20\n",
            "124/124 [==============================] - 113s 910ms/step - loss: 2.6719 - accuracy: 0.2263 - val_loss: 2.8924 - val_accuracy: 0.1452\n",
            "Epoch 10/20\n",
            "124/124 [==============================] - 114s 918ms/step - loss: 2.6199 - accuracy: 0.2336 - val_loss: 2.9492 - val_accuracy: 0.1577\n",
            "Epoch 11/20\n",
            "124/124 [==============================] - 117s 948ms/step - loss: 2.5683 - accuracy: 0.2348 - val_loss: 3.0628 - val_accuracy: 0.1494\n",
            "Epoch 12/20\n",
            "124/124 [==============================] - 121s 972ms/step - loss: 2.5259 - accuracy: 0.2615 - val_loss: 3.1077 - val_accuracy: 0.1203\n",
            "Epoch 13/20\n",
            "124/124 [==============================] - 127s 1s/step - loss: 2.4449 - accuracy: 0.2798 - val_loss: 2.9405 - val_accuracy: 0.1701\n",
            "Epoch 14/20\n",
            "124/124 [==============================] - 129s 1s/step - loss: 2.3839 - accuracy: 0.2947 - val_loss: 2.9878 - val_accuracy: 0.1950\n",
            "Epoch 15/20\n",
            "124/124 [==============================] - 127s 1s/step - loss: 2.3117 - accuracy: 0.3069 - val_loss: 2.9849 - val_accuracy: 0.1743\n",
            "Epoch 16/20\n",
            "124/124 [==============================] - 124s 995ms/step - loss: 2.2714 - accuracy: 0.3077 - val_loss: 3.0206 - val_accuracy: 0.1411\n",
            "Epoch 17/20\n",
            "124/124 [==============================] - 124s 995ms/step - loss: 2.1799 - accuracy: 0.3498 - val_loss: 2.8905 - val_accuracy: 0.1701\n",
            "Epoch 18/20\n",
            "124/124 [==============================] - 124s 1s/step - loss: 2.1364 - accuracy: 0.3425 - val_loss: 2.9185 - val_accuracy: 0.1618\n",
            "Epoch 19/20\n",
            "124/124 [==============================] - 120s 963ms/step - loss: 2.0639 - accuracy: 0.3652 - val_loss: 3.1416 - val_accuracy: 0.1826\n",
            "Epoch 20/20\n",
            "124/124 [==============================] - 121s 973ms/step - loss: 2.0400 - accuracy: 0.3785 - val_loss: 3.0506 - val_accuracy: 0.1743\n"
          ]
        }
      ],
      "source": [
        "# Train the model\n",
        "history = model.fit(train_generator,\n",
        "                    epochs=20,\n",
        "                    verbose=1,\n",
        "                    validation_data=validation_generator)"
      ]
    },
    {
      "cell_type": "code",
      "execution_count": null,
      "metadata": {
        "colab": {
          "base_uri": "https://localhost:8080/",
          "height": 927
        },
        "id": "-qMtBNYnUqnq",
        "outputId": "8bde0704-ce04-4e13-c0a6-b89d8052c0fd"
      },
      "outputs": [
        {
          "data": {
            "image/png": "[encoded data removed]",
            "text/plain": [
              "<Figure size 640x480 with 1 Axes>"
            ]
          },
          "metadata": {},
          "output_type": "display_data"
        },
        {
          "data": {
            "image/png": "[encoded data removed]",
            "text/plain": [
              "<Figure size 640x480 with 1 Axes>"
            ]
          },
          "metadata": {},
          "output_type": "display_data"
        }
      ],
      "source": [
        "plot_accuracy(history)\n",
        "plot_loss(history)"
      ]
    },
    {
      "cell_type": "code",
      "execution_count": null,
      "metadata": {
        "id": "xkq79pcp6e52"
      },
      "outputs": [],
      "source": [
        "# Save model\n",
        "model.save('model_self_28.keras')\n",
        "model.save('model_self_28.h5')"
      ]
    },
    {
      "cell_type": "code",
      "execution_count": null,
      "metadata": {
        "id": "Visfk1a-uSVD"
      },
      "outputs": [],
      "source": [
        "model = load_model('/content/gdrive/My Drive/ML/model_baru.h5')"
      ]
    },
    {
      "cell_type": "code",
      "execution_count": null,
      "metadata": {
        "colab": {
          "base_uri": "https://localhost:8080/"
        },
        "id": "HTtITyCwXZj6",
        "outputId": "e919a789-1be0-4b7a-a9c9-dbcd226d69dd"
      },
      "outputs": [],
      "source": [
        "img_path = testing_dir\n",
        "model_predict_28(img_path, model)"
      ]
    },
    {
      "attachments": {},
      "cell_type": "markdown",
      "metadata": {
        "id": "B8QU-QfE65-x"
      },
      "source": [
        "## Transfer Learning using MobileNetV2"
      ]
    },
    {
      "cell_type": "code",
      "execution_count": null,
      "metadata": {
        "id": "1shv3ZkJQq9B"
      },
      "outputs": [],
      "source": [
        "from keras.applications.mobilenet_v2 import MobileNetV2"
      ]
    },
    {
      "cell_type": "code",
      "execution_count": null,
      "metadata": {
        "colab": {
          "base_uri": "https://localhost:8080/"
        },
        "id": "Oq01LIoe66Zz",
        "outputId": "cc5cb1d4-d640-4ac6-fb82-8e58764054b6"
      },
      "outputs": [
        {
          "name": "stderr",
          "output_type": "stream",
          "text": [
            "WARNING:tensorflow:`input_shape` is undefined or non-square, or `rows` is not in [96, 128, 160, 192, 224]. Weights for input shape (224, 224) will be loaded as the default.\n"
          ]
        },
        {
          "name": "stdout",
          "output_type": "stream",
          "text": [
            "Downloading data from https://storage.googleapis.com/tensorflow/keras-applications/mobilenet_v2/mobilenet_v2_weights_tf_dim_ordering_tf_kernels_1.0_224_no_top.h5\n",
            "9406464/9406464 [==============================] - 0s 0us/step\n"
          ]
        }
      ],
      "source": [
        "model_mobilenetv2 = MobileNetV2(weights='imagenet',\n",
        "                                include_top=False,\n",
        "                                input_shape=(150, 150, 3))\n",
        "\n",
        "for layer in model_mobilenetv2.layers:\n",
        "    layer.trainable = False"
      ]
    },
    {
      "cell_type": "code",
      "execution_count": null,
      "metadata": {
        "id": "m4Is0JXS67wf"
      },
      "outputs": [],
      "source": [
        "# Create the model\n",
        "model = tf.keras.Sequential([\n",
        "    model_mobilenetv2,\n",
        "    tf.keras.layers.GlobalAveragePooling2D(),\n",
        "    tf.keras.layers.Dense(512, activation='relu'),\n",
        "    tf.keras.layers.Dense(128, activation='relu'),\n",
        "    tf.keras.layers.Dropout(0.2),\n",
        "    tf.keras.layers.Dense(38, activation='softmax')\n",
        "])\n",
        "\n",
        "model.compile(optimizer='adam',\n",
        "              loss='categorical_crossentropy',\n",
        "              metrics=['accuracy']) "
      ]
    },
    {
      "cell_type": "code",
      "execution_count": null,
      "metadata": {
        "colab": {
          "base_uri": "https://localhost:8080/"
        },
        "id": "2bS6BLVm8UZv",
        "outputId": "aaf37418-dc1b-44f8-ad9c-9d344d9a0315"
      },
      "outputs": [
        {
          "name": "stdout",
          "output_type": "stream",
          "text": [
            "Epoch 1/10\n",
            "3515/3515 [==============================] - 246s 69ms/step - loss: 0.5530 - accuracy: 0.8289 - val_loss: 0.2758 - val_accuracy: 0.9089\n",
            "Epoch 2/10\n",
            "3515/3515 [==============================] - 216s 61ms/step - loss: 0.2776 - accuracy: 0.9098 - val_loss: 0.2477 - val_accuracy: 0.9212\n",
            "Epoch 3/10\n",
            "3515/3515 [==============================] - 215s 61ms/step - loss: 0.2096 - accuracy: 0.9323 - val_loss: 0.2261 - val_accuracy: 0.9294\n",
            "Epoch 4/10\n",
            "3515/3515 [==============================] - 212s 60ms/step - loss: 0.1796 - accuracy: 0.9417 - val_loss: 0.2543 - val_accuracy: 0.9232\n",
            "Epoch 5/10\n",
            "3515/3515 [==============================] - 213s 60ms/step - loss: 0.1500 - accuracy: 0.9510 - val_loss: 0.2000 - val_accuracy: 0.9396\n",
            "Epoch 6/10\n",
            "3515/3515 [==============================] - 211s 60ms/step - loss: 0.1368 - accuracy: 0.9561 - val_loss: 0.2062 - val_accuracy: 0.9408\n",
            "Epoch 7/10\n",
            "3515/3515 [==============================] - 212s 60ms/step - loss: 0.1166 - accuracy: 0.9617 - val_loss: 0.2356 - val_accuracy: 0.9376\n",
            "Epoch 8/10\n",
            "3515/3515 [==============================] - 210s 60ms/step - loss: 0.1112 - accuracy: 0.9644 - val_loss: 0.2115 - val_accuracy: 0.9435\n",
            "Epoch 9/10\n",
            "3515/3515 [==============================] - 218s 62ms/step - loss: 0.1055 - accuracy: 0.9673 - val_loss: 0.2480 - val_accuracy: 0.9381\n",
            "Epoch 10/10\n",
            "3515/3515 [==============================] - 219s 62ms/step - loss: 0.0951 - accuracy: 0.9696 - val_loss: 0.2334 - val_accuracy: 0.9429\n"
          ]
        }
      ],
      "source": [
        "# Train\n",
        "history = model.fit(train_generator,\n",
        "                    epochs=10,\n",
        "                    verbose=1,\n",
        "                    validation_data=validation_generator)"
      ]
    },
    {
      "cell_type": "code",
      "execution_count": null,
      "metadata": {
        "colab": {
          "base_uri": "https://localhost:8080/",
          "height": 927
        },
        "id": "gwEy4jho6-1C",
        "outputId": "684bc200-4264-4992-e8a0-112d09d20594"
      },
      "outputs": [
        {
          "data": {
            "image/png": "[encoded data removed]",
            "text/plain": [
              "<Figure size 640x480 with 1 Axes>"
            ]
          },
          "metadata": {},
          "output_type": "display_data"
        },
        {
          "data": {
            "image/png": "[encoded data removed]",
            "text/plain": [
              "<Figure size 640x480 with 1 Axes>"
            ]
          },
          "metadata": {},
          "output_type": "display_data"
        }
      ],
      "source": [
        "plot_accuracy(history)\n",
        "plot_loss(history)"
      ]
    },
    {
      "cell_type": "code",
      "execution_count": null,
      "metadata": {
        "id": "GH48hAps7yyW"
      },
      "outputs": [],
      "source": [
        "# Save\n",
        "model.save('model_mobilenetv2_38_v2.keras')\n",
        "model.save('model_mobilenetv2_38_v2.h5')"
      ]
    },
    {
      "cell_type": "code",
      "execution_count": null,
      "metadata": {
        "id": "E9iF2ZEcoKao"
      },
      "outputs": [],
      "source": [
        "model = load_model('/content/model_mobilenetv2_38_v2.h5')"
      ]
    },
    {
      "cell_type": "code",
      "execution_count": null,
      "metadata": {
        "colab": {
          "base_uri": "https://localhost:8080/"
        },
        "id": "8npNgUmKmq3L",
        "outputId": "13692ef8-ec53-4ce0-d726-db60e89f3ad8"
      },
      "outputs": [],
      "source": [
        "# Predict 38 classes\n",
        "img_path = testing_dir\n",
        "model_predict_38(img_path, model)"
      ]
    },
    {
      "cell_type": "code",
      "execution_count": null,
      "metadata": {
        "colab": {
          "base_uri": "https://localhost:8080/"
        },
        "id": "AGNT35I79DCK",
        "outputId": "65922a1b-6726-4019-9c05-3412b137e796"
      },
      "outputs": [],
      "source": [
        "# Predict 21 classes\n",
        "model = load_model('/content/model_mobilenetv2_v3.h5')\n",
        "img_path = testing_dir\n",
        "model_predict_21(img_path, model)"
      ]
    },
    {
      "attachments": {},
      "cell_type": "markdown",
      "metadata": {
        "id": "9ovca08-hoAX"
      },
      "source": [
        "## Transfer Learning using InceptionV3"
      ]
    },
    {
      "cell_type": "code",
      "execution_count": null,
      "metadata": {
        "id": "MTQOhXfMh4V5"
      },
      "outputs": [],
      "source": [
        "from keras.applications.inception_v3 import InceptionV3"
      ]
    },
    {
      "cell_type": "code",
      "execution_count": null,
      "metadata": {
        "colab": {
          "base_uri": "https://localhost:8080/"
        },
        "id": "BM7hq1w9hnPo",
        "outputId": "92c035f6-7398-44cc-b265-8d304363d55b"
      },
      "outputs": [
        {
          "name": "stdout",
          "output_type": "stream",
          "text": [
            "Downloading data from https://storage.googleapis.com/tensorflow/keras-applications/inception_v3/inception_v3_weights_tf_dim_ordering_tf_kernels_notop.h5\n",
            "87910968/87910968 [==============================] - 1s 0us/step\n"
          ]
        }
      ],
      "source": [
        "model_inceptionv3 = InceptionV3(weights='imagenet',\n",
        "                                include_top=False,\n",
        "                                input_shape=(150, 150, 3))\n",
        "\n",
        "for layer in model_inceptionv3.layers:\n",
        "    layer.trainable = False"
      ]
    },
    {
      "cell_type": "code",
      "execution_count": null,
      "metadata": {
        "id": "zXnFdBxUiDNw"
      },
      "outputs": [],
      "source": [
        "# Create the model\n",
        "model = tf.keras.Sequential([\n",
        "    model_inceptionv3,\n",
        "    tf.keras.layers.GlobalAveragePooling2D(),\n",
        "    tf.keras.layers.Dense(512, activation='relu'),\n",
        "    tf.keras.layers.Dense(128, activation='relu'),\n",
        "    tf.keras.layers.Dropout(0.2),\n",
        "    tf.keras.layers.Dense(38, activation='softmax')\n",
        "])\n",
        "\n",
        "model.compile(optimizer='adam',\n",
        "              loss='categorical_crossentropy',\n",
        "              metrics=['accuracy']) "
      ]
    },
    {
      "cell_type": "code",
      "execution_count": null,
      "metadata": {
        "colab": {
          "base_uri": "https://localhost:8080/"
        },
        "id": "uuG1CED2iOiv",
        "outputId": "327840dd-aecd-4305-d2b6-bb95a899ee8a"
      },
      "outputs": [
        {
          "name": "stdout",
          "output_type": "stream",
          "text": [
            "Epoch 1/10\n",
            "3515/3515 [==============================] - 696s 194ms/step - loss: 1.0120 - accuracy: 0.6980 - val_loss: 0.6786 - val_accuracy: 0.7853\n",
            "Epoch 2/10\n",
            "3515/3515 [==============================] - 639s 182ms/step - loss: 0.6324 - accuracy: 0.8060 - val_loss: 0.5446 - val_accuracy: 0.8300\n",
            "Epoch 3/10\n",
            "3515/3515 [==============================] - 636s 181ms/step - loss: 0.5572 - accuracy: 0.8287 - val_loss: 0.5449 - val_accuracy: 0.8327\n",
            "Epoch 4/10\n",
            "3515/3515 [==============================] - 654s 186ms/step - loss: 0.5237 - accuracy: 0.8400 - val_loss: 0.4752 - val_accuracy: 0.8523\n",
            "Epoch 5/10\n",
            "3515/3515 [==============================] - 654s 186ms/step - loss: 0.4842 - accuracy: 0.8506 - val_loss: 0.4800 - val_accuracy: 0.8511\n",
            "Epoch 6/10\n",
            "3515/3515 [==============================] - 636s 181ms/step - loss: 0.4659 - accuracy: 0.8581 - val_loss: 0.4587 - val_accuracy: 0.8623\n",
            "Epoch 7/10\n",
            "3515/3515 [==============================] - 644s 183ms/step - loss: 0.4486 - accuracy: 0.8633 - val_loss: 0.4104 - val_accuracy: 0.8739\n",
            "Epoch 8/10\n",
            "3515/3515 [==============================] - 632s 180ms/step - loss: 0.4345 - accuracy: 0.8679 - val_loss: 0.4330 - val_accuracy: 0.8680\n",
            "Epoch 9/10\n",
            "3515/3515 [==============================] - 635s 181ms/step - loss: 0.4292 - accuracy: 0.8683 - val_loss: 0.4375 - val_accuracy: 0.8677\n",
            "Epoch 10/10\n",
            "3515/3515 [==============================] - 633s 180ms/step - loss: 0.4136 - accuracy: 0.8744 - val_loss: 0.4184 - val_accuracy: 0.8733\n"
          ]
        }
      ],
      "source": [
        "history = model.fit(train_generator,\n",
        "                    epochs=10,\n",
        "                    verbose=1,\n",
        "                    validation_data=validation_generator)"
      ]
    },
    {
      "cell_type": "code",
      "execution_count": null,
      "metadata": {
        "colab": {
          "base_uri": "https://localhost:8080/",
          "height": 927
        },
        "id": "BeAe9-gkiR_u",
        "outputId": "732508e8-7d56-4a2e-c239-b2c3fca3a7f7"
      },
      "outputs": [
        {
          "data": {
            "image/png": "[encoded data removed]",
            "text/plain": [
              "<Figure size 640x480 with 1 Axes>"
            ]
          },
          "metadata": {},
          "output_type": "display_data"
        },
        {
          "data": {
            "image/png": "[encoded data removed]",
            "text/plain": [
              "<Figure size 640x480 with 1 Axes>"
            ]
          },
          "metadata": {},
          "output_type": "display_data"
        }
      ],
      "source": [
        "plot_accuracy(history)\n",
        "plot_loss(history)"
      ]
    },
    {
      "cell_type": "code",
      "execution_count": null,
      "metadata": {
        "id": "NHALZdWB8fni"
      },
      "outputs": [],
      "source": [
        "# Save\n",
        "model.save('model_inceptionv3_38_v2.keras')\n",
        "model.save('model_inceptionv3_38_v2.h5')"
      ]
    },
    {
      "cell_type": "code",
      "execution_count": null,
      "metadata": {
        "id": "U4u8Jmc2UJsR"
      },
      "outputs": [],
      "source": [
        "model = load_model('/content/model_inceptionv3_38.h5')"
      ]
    },
    {
      "cell_type": "code",
      "execution_count": null,
      "metadata": {
        "colab": {
          "base_uri": "https://localhost:8080/"
        },
        "id": "a9KQVZDSHfvT",
        "outputId": "8e536bff-e60f-4e2b-c05f-8bd4bad34949"
      },
      "outputs": [],
      "source": [
        "# Predict from 38 classes\n",
        "img_path = testing_dir\n",
        "model_predict_38(img_path, model)"
      ]
    },
    {
      "attachments": {},
      "cell_type": "markdown",
      "metadata": {
        "id": "rv_Yshqw3z_U"
      },
      "source": [
        "## Transfer Learning using ResNet50"
      ]
    },
    {
      "cell_type": "code",
      "execution_count": null,
      "metadata": {
        "id": "N88mWDd03zD0"
      },
      "outputs": [],
      "source": [
        "from keras.applications import ResNet50"
      ]
    },
    {
      "cell_type": "code",
      "execution_count": null,
      "metadata": {
        "id": "1qfr5P0u3_lT"
      },
      "outputs": [],
      "source": [
        "model_resnet50 = ResNet50(weights=None,\n",
        "                          include_top=False,\n",
        "                          input_shape=(256, 256, 3))\n",
        "\n",
        "for layer in model_resnet50.layers:\n",
        "    layer.trainable = False"
      ]
    },
    {
      "cell_type": "code",
      "execution_count": null,
      "metadata": {
        "id": "HMMlovku5tZA"
      },
      "outputs": [],
      "source": [
        "# Create the model\n",
        "model = tf.keras.Sequential([\n",
        "    model_resnet50,\n",
        "    tf.keras.layers.GlobalAveragePooling2D(),\n",
        "    tf.keras.layers.Dense(512, activation='relu'),\n",
        "    tf.keras.layers.Dense(128, activation='relu'),\n",
        "    tf.keras.layers.Dropout(0.2),\n",
        "    tf.keras.layers.Dense(38, activation='softmax')\n",
        "])\n",
        "\n",
        "model.compile(optimizer='adam',\n",
        "              loss='categorical_crossentropy',\n",
        "              metrics=['accuracy']) "
      ]
    },
    {
      "cell_type": "code",
      "execution_count": null,
      "metadata": {
        "colab": {
          "base_uri": "https://localhost:8080/",
          "height": 487
        },
        "id": "EsPVzT1a53ge",
        "outputId": "7b91b938-27b0-4edd-bbfb-66162151c09c"
      },
      "outputs": [
        {
          "name": "stdout",
          "output_type": "stream",
          "text": [
            "Epoch 1/10\n",
            "3515/3515 [==============================] - 406s 114ms/step - loss: 3.4270 - accuracy: 0.0615 - val_loss: 3.2293 - val_accuracy: 0.1152\n",
            "Epoch 2/10\n",
            "3515/3515 [==============================] - 387s 110ms/step - loss: 3.0868 - accuracy: 0.1304 - val_loss: 2.9785 - val_accuracy: 0.1594\n",
            "Epoch 3/10\n",
            "3515/3515 [==============================] - 398s 113ms/step - loss: 2.8899 - accuracy: 0.1749 - val_loss: 2.8010 - val_accuracy: 0.1954\n"
          ]
        },
        {
          "ename": "KeyboardInterrupt",
          "evalue": "ignored",
          "output_type": "error",
          "traceback": [
            "\u001b[0;31m---------------------------------------------------------------------------\u001b[0m",
            "\u001b[0;31mKeyboardInterrupt\u001b[0m                         Traceback (most recent call last)",
            "\u001b[0;32m<ipython-input-32-89f90e5ab282>\u001b[0m in \u001b[0;36m<cell line: 1>\u001b[0;34m()\u001b[0m\n\u001b[0;32m----> 1\u001b[0;31m history = model.fit(train_generator,\n\u001b[0m\u001b[1;32m      2\u001b[0m                     \u001b[0mepochs\u001b[0m\u001b[0;34m=\u001b[0m\u001b[0;36m10\u001b[0m\u001b[0;34m,\u001b[0m\u001b[0;34m\u001b[0m\u001b[0;34m\u001b[0m\u001b[0m\n\u001b[1;32m      3\u001b[0m                     \u001b[0mverbose\u001b[0m\u001b[0;34m=\u001b[0m\u001b[0;36m1\u001b[0m\u001b[0;34m,\u001b[0m\u001b[0;34m\u001b[0m\u001b[0;34m\u001b[0m\u001b[0m\n\u001b[1;32m      4\u001b[0m                     validation_data=validation_generator)\n",
            "\u001b[0;32m/usr/local/lib/python3.10/dist-packages/keras/utils/traceback_utils.py\u001b[0m in \u001b[0;36merror_handler\u001b[0;34m(*args, **kwargs)\u001b[0m\n\u001b[1;32m     63\u001b[0m         \u001b[0mfiltered_tb\u001b[0m \u001b[0;34m=\u001b[0m \u001b[0;32mNone\u001b[0m\u001b[0;34m\u001b[0m\u001b[0;34m\u001b[0m\u001b[0m\n\u001b[1;32m     64\u001b[0m         \u001b[0;32mtry\u001b[0m\u001b[0;34m:\u001b[0m\u001b[0;34m\u001b[0m\u001b[0;34m\u001b[0m\u001b[0m\n\u001b[0;32m---> 65\u001b[0;31m             \u001b[0;32mreturn\u001b[0m \u001b[0mfn\u001b[0m\u001b[0;34m(\u001b[0m\u001b[0;34m*\u001b[0m\u001b[0margs\u001b[0m\u001b[0;34m,\u001b[0m \u001b[0;34m**\u001b[0m\u001b[0mkwargs\u001b[0m\u001b[0;34m)\u001b[0m\u001b[0;34m\u001b[0m\u001b[0;34m\u001b[0m\u001b[0m\n\u001b[0m\u001b[1;32m     66\u001b[0m         \u001b[0;32mexcept\u001b[0m \u001b[0mException\u001b[0m \u001b[0;32mas\u001b[0m \u001b[0me\u001b[0m\u001b[0;34m:\u001b[0m\u001b[0;34m\u001b[0m\u001b[0;34m\u001b[0m\u001b[0m\n\u001b[1;32m     67\u001b[0m             \u001b[0mfiltered_tb\u001b[0m \u001b[0;34m=\u001b[0m \u001b[0m_process_traceback_frames\u001b[0m\u001b[0;34m(\u001b[0m\u001b[0me\u001b[0m\u001b[0;34m.\u001b[0m\u001b[0m__traceback__\u001b[0m\u001b[0;34m)\u001b[0m\u001b[0;34m\u001b[0m\u001b[0;34m\u001b[0m\u001b[0m\n",
            "\u001b[0;32m/usr/local/lib/python3.10/dist-packages/keras/engine/training.py\u001b[0m in \u001b[0;36mfit\u001b[0;34m(self, x, y, batch_size, epochs, verbose, callbacks, validation_split, validation_data, shuffle, class_weight, sample_weight, initial_epoch, steps_per_epoch, validation_steps, validation_batch_size, validation_freq, max_queue_size, workers, use_multiprocessing)\u001b[0m\n\u001b[1;32m   1671\u001b[0m             \u001b[0mlogs\u001b[0m \u001b[0;34m=\u001b[0m \u001b[0;32mNone\u001b[0m\u001b[0;34m\u001b[0m\u001b[0;34m\u001b[0m\u001b[0m\n\u001b[1;32m   1672\u001b[0m             \u001b[0;32mfor\u001b[0m \u001b[0mepoch\u001b[0m\u001b[0;34m,\u001b[0m \u001b[0miterator\u001b[0m \u001b[0;32min\u001b[0m \u001b[0mdata_handler\u001b[0m\u001b[0;34m.\u001b[0m\u001b[0menumerate_epochs\u001b[0m\u001b[0;34m(\u001b[0m\u001b[0;34m)\u001b[0m\u001b[0;34m:\u001b[0m\u001b[0;34m\u001b[0m\u001b[0;34m\u001b[0m\u001b[0m\n\u001b[0;32m-> 1673\u001b[0;31m                 \u001b[0mself\u001b[0m\u001b[0;34m.\u001b[0m\u001b[0mreset_metrics\u001b[0m\u001b[0;34m(\u001b[0m\u001b[0;34m)\u001b[0m\u001b[0;34m\u001b[0m\u001b[0;34m\u001b[0m\u001b[0m\n\u001b[0m\u001b[1;32m   1674\u001b[0m                 \u001b[0mcallbacks\u001b[0m\u001b[0;34m.\u001b[0m\u001b[0mon_epoch_begin\u001b[0m\u001b[0;34m(\u001b[0m\u001b[0mepoch\u001b[0m\u001b[0;34m)\u001b[0m\u001b[0;34m\u001b[0m\u001b[0;34m\u001b[0m\u001b[0m\n\u001b[1;32m   1675\u001b[0m                 \u001b[0;32mwith\u001b[0m \u001b[0mdata_handler\u001b[0m\u001b[0;34m.\u001b[0m\u001b[0mcatch_stop_iteration\u001b[0m\u001b[0;34m(\u001b[0m\u001b[0;34m)\u001b[0m\u001b[0;34m:\u001b[0m\u001b[0;34m\u001b[0m\u001b[0;34m\u001b[0m\u001b[0m\n",
            "\u001b[0;32m/usr/local/lib/python3.10/dist-packages/keras/engine/training.py\u001b[0m in \u001b[0;36mreset_metrics\u001b[0;34m(self)\u001b[0m\n\u001b[1;32m   2426\u001b[0m         \u001b[0;32mreturn\u001b[0m \u001b[0mtf_utils\u001b[0m\u001b[0;34m.\u001b[0m\u001b[0msync_to_numpy_or_python_type\u001b[0m\u001b[0;34m(\u001b[0m\u001b[0mall_outputs\u001b[0m\u001b[0;34m)\u001b[0m\u001b[0;34m\u001b[0m\u001b[0;34m\u001b[0m\u001b[0m\n\u001b[1;32m   2427\u001b[0m \u001b[0;34m\u001b[0m\u001b[0m\n\u001b[0;32m-> 2428\u001b[0;31m     \u001b[0;32mdef\u001b[0m \u001b[0mreset_metrics\u001b[0m\u001b[0;34m(\u001b[0m\u001b[0mself\u001b[0m\u001b[0;34m)\u001b[0m\u001b[0;34m:\u001b[0m\u001b[0;34m\u001b[0m\u001b[0;34m\u001b[0m\u001b[0m\n\u001b[0m\u001b[1;32m   2429\u001b[0m         \"\"\"Resets the state of all the metrics in the model.\n\u001b[1;32m   2430\u001b[0m \u001b[0;34m\u001b[0m\u001b[0m\n",
            "\u001b[0;31mKeyboardInterrupt\u001b[0m: "
          ]
        }
      ],
      "source": [
        "history = model.fit(train_generator,\n",
        "                    epochs=10,\n",
        "                    verbose=1,\n",
        "                    validation_data=validation_generator)"
      ]
    },
    {
      "cell_type": "code",
      "execution_count": null,
      "metadata": {
        "colab": {
          "base_uri": "https://localhost:8080/",
          "height": 927
        },
        "id": "rIPkHu7056y5",
        "outputId": "0483cf75-9984-4cb3-c902-96b3c27a13bc"
      },
      "outputs": [
        {
          "data": {
            "image/png": "[encoded data removed]",
            "text/plain": [
              "<Figure size 640x480 with 1 Axes>"
            ]
          },
          "metadata": {},
          "output_type": "display_data"
        },
        {
          "data": {
            "image/png": "[encoded data removed]",
            "text/plain": [
              "<Figure size 640x480 with 1 Axes>"
            ]
          },
          "metadata": {},
          "output_type": "display_data"
        }
      ],
      "source": [
        "plot_accuracy(history)\n",
        "plot_loss(history)"
      ]
    },
    {
      "cell_type": "code",
      "execution_count": null,
      "metadata": {
        "id": "vcmR3Tz25-bS"
      },
      "outputs": [],
      "source": [
        "# Save\n",
        "model.save('model_resnet_38.keras')\n",
        "model.save('model_resnet_38.h5')"
      ]
    },
    {
      "cell_type": "code",
      "execution_count": null,
      "metadata": {
        "id": "sjVbt7P36GJF"
      },
      "outputs": [],
      "source": [
        "# Predict from 38 classes\n",
        "img_path = testing_dir\n",
        "model_predict_38(img_path, model)"
      ]
    }
  ],
  "metadata": {
    "accelerator": "GPU",
    "colab": {
      "collapsed_sections": [
        "ISZ3badJ4fvN",
        "-Glr83cO4e9X",
        "QTFEROhLwCzd",
        "lUhD8pydKKnd",
        "StlF-2IXoj78"
      ],
      "gpuType": "T4",
      "provenance": [],
      "toc_visible": true
    },
    "kernelspec": {
      "display_name": "Python 3",
      "name": "python3"
    },
    "language_info": {
      "name": "python"
    }
  },
  "nbformat": 4,
  "nbformat_minor": 0
}
